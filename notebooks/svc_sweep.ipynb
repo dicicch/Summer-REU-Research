{
 "cells": [
  {
   "cell_type": "code",
   "execution_count": null,
   "metadata": {},
   "outputs": [],
   "source": [
    "import wandb"
   ]
  },
  {
   "cell_type": "code",
   "execution_count": null,
   "metadata": {},
   "outputs": [],
   "source": [
    "sweep_config = {\n",
    "  'name': 'bayes_recall_fixed-split',\n",
    "  'method': 'bayes',\n",
    "  'program': 'train.py',\n",
    "  'metric': {'name': 'Weighted Recall',\n",
    "             'goal': 'maximize'},\n",
    "  'parameters': {\n",
    "        'C': {\n",
    "            'min': 0.0,\n",
    "            'max': 1e4,\n",
    "            'distribution': 'normal',\n",
    "            'mu': 5e3,\n",
    "            'sigma': 1e3\n",
    "        },\n",
    "       'gamma': {\n",
    "           'min': 1.0,\n",
    "           'max': 100.0,\n",
    "           'distribution': 'uniform'\n",
    "       }\n",
    "    }\n",
    "}"
   ]
  },
  {
   "cell_type": "code",
   "execution_count": null,
   "metadata": {},
   "outputs": [],
   "source": [
    "sweep_id = wandb.sweep(sweep_config, project=\"sysfake\")"
   ]
  },
  {
   "cell_type": "code",
   "execution_count": null,
   "metadata": {},
   "outputs": [],
   "source": [
    "wandb.agent(sweep_id)"
   ]
  }
 ],
 "metadata": {
  "kernelspec": {
   "display_name": "Python 3",
   "language": "python",
   "name": "python3"
  },
  "language_info": {
   "codemirror_mode": {
    "name": "ipython",
    "version": 3
   },
   "file_extension": ".py",
   "mimetype": "text/x-python",
   "name": "python",
   "nbconvert_exporter": "python",
   "pygments_lexer": "ipython3",
   "version": "3.7.6"
  }
 },
 "nbformat": 4,
 "nbformat_minor": 4
}
