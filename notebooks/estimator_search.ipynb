{
 "cells": [
  {
   "cell_type": "code",
   "execution_count": null,
   "metadata": {},
   "outputs": [],
   "source": [
    "import wandb\n",
    "wandb.init(project=\"sysfake\")"
   ]
  },
  {
   "cell_type": "code",
   "execution_count": null,
   "metadata": {},
   "outputs": [],
   "source": [
    "scoring = 'recall_weighted'\n",
    "\n",
    "selector_rfe = RFECV(SVC(kernel='linear', class_weight='balanced'),\n",
    "                     step=1,\n",
    "                     cv=3, verbose=3)\n",
    "\n",
    "params = {'estimator__C': sp.stats.distributions.arcsine(scale=1e4),\n",
    "          'estimator__gamma':sp.stats.distributions.expon(scale=10)}\n",
    "\n",
    "rs = RandomizedSearchCV(estimator=selector_rfe,\n",
    "                        refit=True,\n",
    "                        cv=3,\n",
    "                        param_distributions=params,\n",
    "                        scoring=scoring,\n",
    "                        n_jobs=-1, verbose=3)\n",
    "\n",
    "rs.fit(x, y)\n",
    "\n",
    "#x_rfe_select = selector_rfe.fit_transform(x, y)"
   ]
  }
 ],
 "metadata": {
  "kernelspec": {
   "display_name": "Python 3",
   "language": "python",
   "name": "python3"
  },
  "language_info": {
   "codemirror_mode": {
    "name": "ipython",
    "version": 3
   },
   "file_extension": ".py",
   "mimetype": "text/x-python",
   "name": "python",
   "nbconvert_exporter": "python",
   "pygments_lexer": "ipython3",
   "version": "3.7.6"
  }
 },
 "nbformat": 4,
 "nbformat_minor": 4
}
