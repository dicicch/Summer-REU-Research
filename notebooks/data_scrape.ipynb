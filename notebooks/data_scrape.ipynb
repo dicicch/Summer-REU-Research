{
 "cells": [
  {
   "cell_type": "code",
   "execution_count": 1,
   "metadata": {},
   "outputs": [],
   "source": [
    "import re\n",
    "import sys\n",
    "import requests as r\n",
    "import itertools as it\n",
    "\n",
    "from collections import defaultdict\n",
    "\n",
    "import numpy as np\n",
    "import pandas as pd\n",
    "\n",
    "from bs4 import BeautifulSoup"
   ]
  },
  {
   "cell_type": "code",
   "execution_count": 2,
   "metadata": {},
   "outputs": [],
   "source": [
    "headers = r.utils.default_headers()\n",
    "headers.update({ 'User-Agent': 'Mozilla/5.0 (X11; Ubuntu; Linux x86_64; rv:52.0) Gecko/20100101 Firefox/52.0'})"
   ]
  },
  {
   "cell_type": "code",
   "execution_count": 3,
   "metadata": {},
   "outputs": [
    {
     "data": {
      "text/html": [
       "<div>\n",
       "<style scoped>\n",
       "    .dataframe tbody tr th:only-of-type {\n",
       "        vertical-align: middle;\n",
       "    }\n",
       "\n",
       "    .dataframe tbody tr th {\n",
       "        vertical-align: top;\n",
       "    }\n",
       "\n",
       "    .dataframe thead th {\n",
       "        text-align: right;\n",
       "    }\n",
       "</style>\n",
       "<table border=\"1\" class=\"dataframe\">\n",
       "  <thead>\n",
       "    <tr style=\"text-align: right;\">\n",
       "      <th></th>\n",
       "      <th>Site</th>\n",
       "      <th>Status</th>\n",
       "      <th>Coder</th>\n",
       "      <th>Story 1</th>\n",
       "      <th>Story 2</th>\n",
       "      <th>Story 3</th>\n",
       "    </tr>\n",
       "  </thead>\n",
       "  <tbody>\n",
       "    <tr>\n",
       "      <td>0</td>\n",
       "      <td>Yahoo News</td>\n",
       "      <td>DONE</td>\n",
       "      <td>DI</td>\n",
       "      <td>https://goingthere.yahoo.com/post/133803688011...</td>\n",
       "      <td>https://goingthere.yahoo.com/post/130087715036...</td>\n",
       "      <td>https://goingthere.yahoo.com/post/130160620511...</td>\n",
       "    </tr>\n",
       "    <tr>\n",
       "      <td>1</td>\n",
       "      <td>ABC News \\n</td>\n",
       "      <td>Done</td>\n",
       "      <td>DI</td>\n",
       "      <td>http://abcnews.go.com/US/wireStory/providence-...</td>\n",
       "      <td>http://abcnews.go.com/Politics/obama-hits-trum...</td>\n",
       "      <td>http://abcnews.go.com/Politics/justice-antonin...</td>\n",
       "    </tr>\n",
       "    <tr>\n",
       "      <td>2</td>\n",
       "      <td>CNN Network</td>\n",
       "      <td>DONE</td>\n",
       "      <td>BWW</td>\n",
       "      <td>http://sponsorcontent.cnn.com/interactive/cine...</td>\n",
       "      <td>http://sponsorcontent.cnn.com/amazon/article/8...</td>\n",
       "      <td>http://sponsorcontent.cnn.com/subaru/article/a...</td>\n",
       "    </tr>\n",
       "    <tr>\n",
       "      <td>3</td>\n",
       "      <td>NBC News Digital</td>\n",
       "      <td>DONE</td>\n",
       "      <td>NJE</td>\n",
       "      <td>http://www.nbcnews.com/video/this-designer-cut...</td>\n",
       "      <td>http://www.nbcnews.com/video/baby-boomers-are-...</td>\n",
       "      <td>http://www.nbcnews.com/video/he-creates-furnit...</td>\n",
       "    </tr>\n",
       "    <tr>\n",
       "      <td>4</td>\n",
       "      <td>HuffingtonPost.com</td>\n",
       "      <td>DONE</td>\n",
       "      <td>BWW</td>\n",
       "      <td>http://www.huffingtonpost.com/2015/06/04/best-...</td>\n",
       "      <td>http://www.huffingtonpost.com/kathy-magee/a-sm...</td>\n",
       "      <td>http://www.huffingtonpost.com/2015/05/29/evolu...</td>\n",
       "    </tr>\n",
       "  </tbody>\n",
       "</table>\n",
       "</div>"
      ],
      "text/plain": [
       "                 Site Status Coder  \\\n",
       "0          Yahoo News   DONE    DI   \n",
       "1         ABC News \\n   Done    DI   \n",
       "2         CNN Network   DONE   BWW   \n",
       "3    NBC News Digital   DONE   NJE   \n",
       "4  HuffingtonPost.com   DONE   BWW   \n",
       "\n",
       "                                             Story 1  \\\n",
       "0  https://goingthere.yahoo.com/post/133803688011...   \n",
       "1  http://abcnews.go.com/US/wireStory/providence-...   \n",
       "2  http://sponsorcontent.cnn.com/interactive/cine...   \n",
       "3  http://www.nbcnews.com/video/this-designer-cut...   \n",
       "4  http://www.huffingtonpost.com/2015/06/04/best-...   \n",
       "\n",
       "                                             Story 2  \\\n",
       "0  https://goingthere.yahoo.com/post/130087715036...   \n",
       "1  http://abcnews.go.com/Politics/obama-hits-trum...   \n",
       "2  http://sponsorcontent.cnn.com/amazon/article/8...   \n",
       "3  http://www.nbcnews.com/video/baby-boomers-are-...   \n",
       "4  http://www.huffingtonpost.com/kathy-magee/a-sm...   \n",
       "\n",
       "                                             Story 3  \n",
       "0  https://goingthere.yahoo.com/post/130160620511...  \n",
       "1  http://abcnews.go.com/Politics/justice-antonin...  \n",
       "2  http://sponsorcontent.cnn.com/subaru/article/a...  \n",
       "3  http://www.nbcnews.com/video/he-creates-furnit...  \n",
       "4  http://www.huffingtonpost.com/2015/05/29/evolu...  "
      ]
     },
     "execution_count": 3,
     "metadata": {},
     "output_type": "execute_result"
    }
   ],
   "source": [
    "nativead = pd.read_excel(\"../data/Nativead.xlsx\")\n",
    "nativead.head()"
   ]
  },
  {
   "cell_type": "code",
   "execution_count": 4,
   "metadata": {},
   "outputs": [
    {
     "data": {
      "text/plain": [
       "DONE                38\n",
       "Done                 5\n",
       "Found only 1         1\n",
       "N/A, now defunct     1\n",
       "Name: Status, dtype: int64"
      ]
     },
     "execution_count": 4,
     "metadata": {},
     "output_type": "execute_result"
    }
   ],
   "source": [
    "nativead['Status'].value_counts()"
   ]
  },
  {
   "cell_type": "code",
   "execution_count": 5,
   "metadata": {},
   "outputs": [
    {
     "data": {
      "text/plain": [
       "Site       0\n",
       "Status     0\n",
       "Coder      0\n",
       "Story 1    0\n",
       "Story 2    0\n",
       "Story 3    0\n",
       "dtype: int64"
      ]
     },
     "execution_count": 5,
     "metadata": {},
     "output_type": "execute_result"
    }
   ],
   "source": [
    "nativead = nativead.astype(str)\n",
    "nativead = nativead[nativead['Status'].apply(str.lower)=='done']\n",
    "nativead.isnull().sum()"
   ]
  },
  {
   "cell_type": "code",
   "execution_count": 6,
   "metadata": {},
   "outputs": [
    {
     "data": {
      "text/html": [
       "<div>\n",
       "<style scoped>\n",
       "    .dataframe tbody tr th:only-of-type {\n",
       "        vertical-align: middle;\n",
       "    }\n",
       "\n",
       "    .dataframe tbody tr th {\n",
       "        vertical-align: top;\n",
       "    }\n",
       "\n",
       "    .dataframe thead th {\n",
       "        text-align: right;\n",
       "    }\n",
       "</style>\n",
       "<table border=\"1\" class=\"dataframe\">\n",
       "  <thead>\n",
       "    <tr style=\"text-align: right;\">\n",
       "      <th></th>\n",
       "      <th>Site</th>\n",
       "      <th>Story 1</th>\n",
       "      <th>Story 2</th>\n",
       "      <th>Story 3</th>\n",
       "    </tr>\n",
       "  </thead>\n",
       "  <tbody>\n",
       "    <tr>\n",
       "      <td>0</td>\n",
       "      <td>Yahoo News</td>\n",
       "      <td>https://goingthere.yahoo.com/post/133803688011...</td>\n",
       "      <td>https://goingthere.yahoo.com/post/130087715036...</td>\n",
       "      <td>https://goingthere.yahoo.com/post/130160620511...</td>\n",
       "    </tr>\n",
       "    <tr>\n",
       "      <td>1</td>\n",
       "      <td>ABC News \\n</td>\n",
       "      <td>http://abcnews.go.com/US/wireStory/providence-...</td>\n",
       "      <td>http://abcnews.go.com/Politics/obama-hits-trum...</td>\n",
       "      <td>http://abcnews.go.com/Politics/justice-antonin...</td>\n",
       "    </tr>\n",
       "    <tr>\n",
       "      <td>2</td>\n",
       "      <td>CNN Network</td>\n",
       "      <td>http://sponsorcontent.cnn.com/interactive/cine...</td>\n",
       "      <td>http://sponsorcontent.cnn.com/amazon/article/8...</td>\n",
       "      <td>http://sponsorcontent.cnn.com/subaru/article/a...</td>\n",
       "    </tr>\n",
       "    <tr>\n",
       "      <td>3</td>\n",
       "      <td>NBC News Digital</td>\n",
       "      <td>http://www.nbcnews.com/video/this-designer-cut...</td>\n",
       "      <td>http://www.nbcnews.com/video/baby-boomers-are-...</td>\n",
       "      <td>http://www.nbcnews.com/video/he-creates-furnit...</td>\n",
       "    </tr>\n",
       "    <tr>\n",
       "      <td>4</td>\n",
       "      <td>HuffingtonPost.com</td>\n",
       "      <td>http://www.huffingtonpost.com/2015/06/04/best-...</td>\n",
       "      <td>http://www.huffingtonpost.com/kathy-magee/a-sm...</td>\n",
       "      <td>http://www.huffingtonpost.com/2015/05/29/evolu...</td>\n",
       "    </tr>\n",
       "  </tbody>\n",
       "</table>\n",
       "</div>"
      ],
      "text/plain": [
       "                 Site                                            Story 1  \\\n",
       "0          Yahoo News  https://goingthere.yahoo.com/post/133803688011...   \n",
       "1         ABC News \\n  http://abcnews.go.com/US/wireStory/providence-...   \n",
       "2         CNN Network  http://sponsorcontent.cnn.com/interactive/cine...   \n",
       "3    NBC News Digital  http://www.nbcnews.com/video/this-designer-cut...   \n",
       "4  HuffingtonPost.com  http://www.huffingtonpost.com/2015/06/04/best-...   \n",
       "\n",
       "                                             Story 2  \\\n",
       "0  https://goingthere.yahoo.com/post/130087715036...   \n",
       "1  http://abcnews.go.com/Politics/obama-hits-trum...   \n",
       "2  http://sponsorcontent.cnn.com/amazon/article/8...   \n",
       "3  http://www.nbcnews.com/video/baby-boomers-are-...   \n",
       "4  http://www.huffingtonpost.com/kathy-magee/a-sm...   \n",
       "\n",
       "                                             Story 3  \n",
       "0  https://goingthere.yahoo.com/post/130160620511...  \n",
       "1  http://abcnews.go.com/Politics/justice-antonin...  \n",
       "2  http://sponsorcontent.cnn.com/subaru/article/a...  \n",
       "3  http://www.nbcnews.com/video/he-creates-furnit...  \n",
       "4  http://www.huffingtonpost.com/2015/05/29/evolu...  "
      ]
     },
     "execution_count": 6,
     "metadata": {},
     "output_type": "execute_result"
    }
   ],
   "source": [
    "nativead = nativead.drop(['Status', 'Coder'], axis=1)\n",
    "nativead.head(n=5)"
   ]
  },
  {
   "cell_type": "code",
   "execution_count": 7,
   "metadata": {},
   "outputs": [
    {
     "name": "stdout",
     "output_type": "stream",
     "text": [
      "Response code 404, trying again...\n"
     ]
    }
   ],
   "source": [
    "def get_article_url(urls=pd.DataFrame):\n",
    "    return np.random.choice(urls.to_numpy().flatten())\n",
    "\n",
    "story_urls = nativead[['Story 1', 'Story 2', 'Story 3']]\n",
    "test_url = get_article_url(story_urls)\n",
    "article = r.get(test_url, headers)\n",
    "while not article:\n",
    "    print('Response code 404, trying again...')\n",
    "    try:\n",
    "        article = r.get(get_article_url(story_urls), headers)\n",
    "    except r.exceptions.MissingSchema:\n",
    "        continue\n",
    "else:\n",
    "    data = article.text\n",
    "    soup = BeautifulSoup(data)"
   ]
  },
  {
   "cell_type": "code",
   "execution_count": 8,
   "metadata": {},
   "outputs": [
    {
     "name": "stdout",
     "output_type": "stream",
     "text": [
      "Whoâs the first person that comes to mind when you think about someone who uses advanced math and science every day? A doctor? A chemist? Certainly someone in a white lab coat. Perhaps an engineer performing calculations on a computer or working on complex machines?\n",
      "A Multi-part Series:Re-engineering the Futureof American Education\n",
      "Sure, these professions are the most closely associated with the science, technology, engineering and math (STEM) fields, but what about plumbers and pipefitters? Trigonometry is central to their work. And other workers in the trades, such as technicians who operate plants and refineries, need to keep the principles of chemistry and physics in their heads whenever theyâre on the job.\n",
      "With the expansion of advanced technologies and processes into more and more fields, the science, technology, engineering and math (STEM) economy is much bigger than many imagine and the barriers to entry are also lower than most think. Occupations like pipefitting and welding require only a high school diploma plus technical training to start. In fact, high school and community college graduates, along with those who donât have a four-year university diploma, hold half of these positions.\n",
      "These are well-paying jobs: Work that demands technical know-how, but not a masterâs or Ph.D., and pays better than the national average wage of $46,000. American plumbers and pipefitters, for instance, earned more than $49,000 in 2012, according to the Bureau of Labor Statistics. Expanding out to other fields, a recent Brookings report found U.S. STEM workers who havenât attained a bachelorâs degree earn an average salary of $53,000, about 10 percent higher than non-STEM employees with the same educational background.\n",
      "For those looking to get into work that requires STEM skills, the Bureau of Labor Statistics is bullish about demand by employers, concluding that âSTEM occupations are...viewed as having some of the best opportunities for job growth in the future.â Indeed, the Commerce Department projects that the number of STEM jobs will have grown by 17 percent from 2008 to 2018.\n",
      "Taken together, the projected demand for more technical workers across all industries and the higher wages for all levels of educational achievement point to a revitalized, robust middle class as an achievable goal. It also means that science and technology are no longer walled off in labs and universities; they're on the job and in our daily lives. Thatâs why many community colleges and vocational schools across the country are ramping up their training programs in STEM fields. They see the national projections and hear from local employers who need skilled workers.\n",
      "At Mississippi Gulf Coast Community College (MGCCC), that need for employees has pushed the administration to build new facilities to teach STEM skills. In the near future, the school will have 35,000 square feet of labs and other space dedicated solely to training welders, machinists and instrumentation control technicians, among other tech-driven occupations. Carmen Walters, the vice president of one of MGCCCâs campuses, points to studies that show there will be some 46,000 available STEM jobs in the state by 2018. âWe feel confident that STEM jobs are growing in Mississippi,â she says. âEngineering and support jobs are well paid, and we want to train our students to get them.â\n",
      "The hundreds who matriculate every year with a combination of hands-on training and coursework will find jobs at the nearby power plant, chemical factory, shipyard or refinery. Travis Brooks, one such recent graduate of MGCCCâs Process Operations Technology course, said he enrolled because he wanted a career that allowed for growth and for him to work with his hands. He chose the Process Operations Technology track, which was created in partnership with Chevron, because completing it better positioned him for a job at the companyâs oil refinery in nearby Pascagoula.\n",
      "âI didn't want to sit behind a desk all the time, staring at a computer,â he says. âI remember the first time walking through the crude unit [where crude oil is refined] and seeing different types of pumps and different types of valves, and being able to follow out process flows and already knowing what everything meant.\"\n",
      "Brock Clark, MGCCCâs dean for career, technical, workforce and community education, says people looking for work at a place like a modern oil refinery need the specialized, focused and hands-on training that a technical course can provide. But they also need that course to be based on the realities a worker will find inside the facility, not on obsolete systems. This is why the school forms partnerships with local companies to make the training programs match the changing needs of jobs. In many cases, the school hires retired workers or brings in company trainers to work with students full-time.\n",
      "âIt keeps us connected to whatâs happening in these industries,â says Clark. âPeople come here to teach what they learned over a 30-year career. They want to pass that knowledge on, and the companies know theyâre getting new employees trained to the level they need.â\n",
      "Career training in action.\n",
      "An information exchange and mentorship triangle among students, schools and employers is critical to companies working in South Mississippi and around the country, says Gary Yesavage, president of manufacturing at Chevron. The company has been hiring young workers aggressively because of a major workforce concern in the oil and gas sector that is also being seen in other industries.\n",
      "âWhatâs happening in the refining business is that itâs laden with baby boomers, and there are a lot of people near retirement,â Yesavage says. âThere are not a lot of people in the 10- to 20-year experience range. What I see is that demand will outstrip supply.â\n",
      "He says finding bachelorâs-level chemical, electrical and mechanical engineers is hard, and hiring enough trained technicians is an even bigger challenge. Itâs an issue being felt throughout the industry. âWe worry about our refineries. Are we going to be able to get the numbers and quality of skilled craftsmenâmachinists, mechanicsâfor our facilities?â he asks. âItâs a real opportunity for people who want to work hard. You can get a training certification or an associateâs degree and earn a very good living in this industry.â\n",
      ".\n",
      "Support 160 years of independent journalism.\n",
      "\n",
      "TheAtlantic.com Copyright (c) 2019 by The Atlantic Monthly Group. All Rights Reserved.\n"
     ]
    }
   ],
   "source": [
    "print(\"\\n\".join([para.get_text(strip=True) for para in soup.find_all('p')]))"
   ]
  },
  {
   "cell_type": "code",
   "execution_count": 9,
   "metadata": {},
   "outputs": [
    {
     "name": "stdout",
     "output_type": "stream",
     "text": [
      "128/129 with 40 bad responses."
     ]
    }
   ],
   "source": [
    "texts = []\n",
    "urls = nativead[['Story 1', 'Story 2', 'Story 3']].to_numpy().flatten()\n",
    "good_urls = []\n",
    "more_urls = []\n",
    "badresponses = 0\n",
    "for i, url in enumerate(urls):\n",
    "    if url=='nan':\n",
    "        texts.append('')\n",
    "        continue\n",
    "    try:\n",
    "        article = r.get(url, headers)\n",
    "        if article:\n",
    "            good_urls.append(url)\n",
    "            links = soup.select('body p > a')\n",
    "            data = article.text\n",
    "            soup = BeautifulSoup(data)\n",
    "            article = \" \".join([para.get_text(strip=True) for para in soup.find_all('p')])\n",
    "            texts.append(article)\n",
    "        else:\n",
    "            badresponses += 1\n",
    "            texts.append('')\n",
    "    except r.exceptions.TooManyRedirects:\n",
    "        texts.append('')\n",
    "        continue\n",
    "    sys.stdout.flush()\n",
    "    sys.stdout.write(\"\\r\" + f\"{i!s}/{len(urls)!s} with {badresponses!s} bad responses.\")"
   ]
  },
  {
   "cell_type": "code",
   "execution_count": 10,
   "metadata": {},
   "outputs": [],
   "source": [
    "texts = pd.Series(texts, dtype=str)\n",
    "labels = nativead['Site'].repeat(3)"
   ]
  },
  {
   "cell_type": "code",
   "execution_count": 11,
   "metadata": {},
   "outputs": [],
   "source": [
    "texts = labels.to_frame().join(texts.to_frame())\n",
    "texts.columns = ['Source', 'Text']\n",
    "texts = texts[texts['Text']!='']\n",
    "texts = texts[texts['Text']!=' ']"
   ]
  },
  {
   "cell_type": "code",
   "execution_count": 12,
   "metadata": {},
   "outputs": [],
   "source": [
    "texts.to_csv('../data/promotional_text.csv', index=False)"
   ]
  },
  {
   "cell_type": "code",
   "execution_count": null,
   "metadata": {},
   "outputs": [],
   "source": []
  }
 ],
 "metadata": {
  "kernelspec": {
   "display_name": "Python 3",
   "language": "python",
   "name": "python3"
  },
  "language_info": {
   "codemirror_mode": {
    "name": "ipython",
    "version": 3
   },
   "file_extension": ".py",
   "mimetype": "text/x-python",
   "name": "python",
   "nbconvert_exporter": "python",
   "pygments_lexer": "ipython3",
   "version": "3.7.4"
  }
 },
 "nbformat": 4,
 "nbformat_minor": 4
}
