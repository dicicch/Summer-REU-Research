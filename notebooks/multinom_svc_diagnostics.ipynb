{
 "cells": [
  {
   "cell_type": "markdown",
   "metadata": {},
   "source": [
    "Hunter S. DiCicco\n",
    "\n",
    "with Dr. Dongwon Lee, Ph.D.\n",
    "\n",
    "# Multinomial SVC for Categories of News\n",
    "\n",
    "## Diagnostics to Assess Model Performance\n",
    "\n",
    "### Setup and Imports"
   ]
  },
  {
   "cell_type": "code",
   "execution_count": 1,
   "metadata": {},
   "outputs": [
    {
     "name": "stdout",
     "output_type": "stream",
     "text": [
      "Retreiving data...\n",
      "Retreiving data...\n",
      "Retreiving data...\n",
      "Retreiving data...\n",
      "recall: [0.7  0.96 0.03 0.31 0.89]\n",
      "precision [0.82 0.88 0.54 0.25 0.51]\n",
      "f1: [0.75 0.92 0.06 0.28 0.65]\n",
      "{1: 68, 2: 10, 3: 217, 5: 154, 7: 24}\n",
      "This model got 57.76% correct || 647 out of 1120\n",
      "False negatives for real data (1)\n",
      "{2: 13, 5: 55}\n",
      "False negatives for fake data (2)\n",
      "{5: 10}\n",
      "False negatives for opinion data (3)\n",
      "{1: 12, 2: 5, 5: 147, 7: 53}\n",
      "False negatives for polarized data (5)\n",
      "{2: 11, 3: 4, 7: 139}\n",
      "False negatives for satire data (7)\n",
      "{1: 22, 3: 2}\n"
     ]
    }
   ],
   "source": [
    "import pickle\n",
    "import glob\n",
    "import sys\n",
    "import os\n",
    "\n",
    "from subprocess import Popen\n",
    "\n",
    "import matplotlib.pyplot as plt\n",
    "import numpy as np\n",
    "\n",
    "def main():\n",
    "    \"\"\"\n",
    "    Instead of an import, we wrap the execution of both of these vital modules within `exec`.\n",
    "    This ensures that changes are enacted on every chunk evaluation.\n",
    "    \"\"\"\n",
    "    exec(open(\"classifier.py\").read(), globals())\n",
    "    exec(open(\"validator.py\").read(), globals())\n",
    "\n",
    "try:\n",
    "    main()\n",
    "except FileNotFoundError:\n",
    "    os.chdir(\"../\")\n",
    "    main()"
   ]
  },
  {
   "cell_type": "code",
   "execution_count": 2,
   "metadata": {},
   "outputs": [],
   "source": [
    "# obtain a glob of the files in the `models` directory\n",
    "list_of_files = glob.glob('../models/*')\n",
    "\n",
    "# obtain the model which was created most recently\n",
    "# using the sorting key of creation time\n",
    "latest_model = max(list_of_files, key=os.path.getctime)\n",
    "\n",
    "# open the most recent model and load it into the namespace\n",
    "# WARNING: only load pickle files that you trust! do not allow arbitrary execution\n",
    "with open(latest_model, mode=\"rb\") as filein:\n",
    "    model = pickle.load(filein)"
   ]
  },
  {
   "cell_type": "markdown",
   "metadata": {},
   "source": [
    "Some of the insights used below obtained from [here](https://stackoverflow.com/a/22831491).\n",
    "\n",
    "In the next chunk we will use our models' support vectors to perform feature selection.\n",
    "\n",
    "Each feature used in the SVM's training has its associated weight vector(s) which encode that feature's influence on assigning class label(s) during inference.\n",
    "\n",
    "In the linear case interpreting these weight vectors to select features is simple.\n",
    "\n",
    "Since our task requires a multinomial model, the weight vectors are multidimensional because they describe the one-vs-one influence of a particular feature on a class versus every other class, ordered as such:\n",
    "```\n",
    "class 0 vs class 1\n",
    "class 0 vs class 2\n",
    "...\n",
    "class 0 vs class n_classes-1\n",
    "class 1 vs class 2\n",
    "class 1 vs class 3\n",
    "...\n",
    "class n_classes-2 vs class n_classes-1\n",
    "```\n",
    "First we will load the most recent *linear* model and \n",
    "\n",
    "We will be calculating what are called the \"Dual Coefficients\" for this model.\n",
    "They will be contained in a vector..."
   ]
  },
  {
   "cell_type": "code",
   "execution_count": 24,
   "metadata": {},
   "outputs": [
    {
     "data": {
      "image/png": "[encoded data removed]",
      "text/plain": [
       "<Figure size 432x288 with 1 Axes>"
      ]
     },
     "metadata": {
      "needs_background": "light"
     },
     "output_type": "display_data"
    }
   ],
   "source": [
    "if model.kernel == \"linear\":\n",
    "    # obtain the number of classes\n",
    "    # as well as weights for supports of each class\n",
    "    (n_classes, coefs) = *(len(model.classes_), model.coef_.transpose()),\n",
    "\n",
    "    #support_indices = np.cumsum(model.n_support_)\n",
    "\n",
    "    # sort of a hack:\n",
    "    # take the vector norm of each \n",
    "    coefs = np.apply_along_axis(lambda x: np.sqrt(x.dot(x)), 1, coefs\n",
    "\n",
    "    plt.bar(list(range(1, len(coefs)+1)), coefs, )\n",
    "else:\n",
    "    raise AttributeError('Model kernel is not linear. Only linear kernels have dual coefficients for class support weights.')"
   ]
  },
  {
   "cell_type": "code",
   "execution_count": null,
   "metadata": {},
   "outputs": [],
   "source": []
  }
 ],
 "metadata": {
  "kernelspec": {
   "display_name": "Python 3",
   "language": "python",
   "name": "python3"
  },
  "language_info": {
   "codemirror_mode": {
    "name": "ipython",
    "version": 3
   },
   "file_extension": ".py",
   "mimetype": "text/x-python",
   "name": "python",
   "nbconvert_exporter": "python",
   "pygments_lexer": "ipython3",
   "version": "3.7.4"
  }
 },
 "nbformat": 4,
 "nbformat_minor": 4
}
