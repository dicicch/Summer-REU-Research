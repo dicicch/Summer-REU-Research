{
 "cells": [
  {
   "cell_type": "markdown",
   "metadata": {},
   "source": [
    "Hunter S. DiCicco\n",
    "\n",
    "with Dr. Dongwon Lee, Ph.D.\n",
    "\n",
    "# Multinomial SVC for Categories of News\n",
    "\n",
    "## Diagnostics to Assess Model Performance\n",
    "\n",
    "### Setup and Imports"
   ]
  },
  {
   "cell_type": "code",
   "execution_count": 1,
   "metadata": {},
   "outputs": [
    {
     "name": "stdout",
     "output_type": "stream",
     "text": [
      "Retreiving data...\n",
      "Retreiving data...\n",
      "Retreiving data...\n",
      "Retreiving data...\n",
      "recall: [0.69642857 0.95535714 0.03125    0.3125     0.89285714]\n",
      "precision [0.82105263 0.88065844 0.53846154 0.24822695 0.51020408]\n",
      "f1: [0.75362319 0.91648822 0.05907173 0.27667984 0.64935065]\n",
      "{1: 68, 2: 10, 3: 217, 5: 154, 7: 24}\n",
      "This model got 57.76785714285714 percent correct || 647 correct out of 1120\n",
      "False negatives for real data (1)\n",
      "{5: 55, 2: 13}\n",
      "False negatives for fake data (2)\n",
      "{5: 10}\n",
      "False negatives for opinion data (3)\n",
      "{5: 147, 2: 5, 1: 12, 7: 53}\n",
      "False negatives for polarized data (5)\n",
      "{7: 139, 3: 4, 2: 11}\n",
      "False negatives for satire data (7)\n",
      "{1: 22, 3: 2}\n"
     ]
    }
   ],
   "source": [
    "import pickle\n",
    "import glob\n",
    "import sys\n",
    "import os\n",
    "\n",
    "from subprocess import Popen\n",
    "\n",
    "import matplotlib.pyplot as plt\n",
    "import numpy as np\n",
    "\n",
    "def main():\n",
    "    \"\"\"\n",
    "    Instead of an import, we wrap the execution of both of these vital modules within `exec`.\n",
    "    This ensures that changes are enacted on every chunk evaluation.\n",
    "    \"\"\"\n",
    "    exec(open(\"classifier.py\").read(), globals())\n",
    "    exec(open(\"validator.py\").read(), globals())\n",
    "\n",
    "try:\n",
    "    main()\n",
    "except FileNotFoundError:\n",
    "    os.chdir(\"../\")\n",
    "    main()"
   ]
  },
  {
   "cell_type": "code",
   "execution_count": 2,
   "metadata": {},
   "outputs": [],
   "source": [
    "list_of_files = glob.glob('../models/*')\n",
    "latest_model = max(list_of_files, key=os.path.getctime)\n",
    "with open(latest_model, mode=\"rb\") as filein:\n",
    "    model = pickle.load(filein)"
   ]
  },
  {
   "cell_type": "markdown",
   "metadata": {},
   "source": [
    "Some of the insights used below obtained from [here](https://stackoverflow.com/a/22831491)."
   ]
  },
  {
   "cell_type": "code",
   "execution_count": 3,
   "metadata": {},
   "outputs": [
    {
     "data": {
      "text/plain": [
       "<BarContainer object of 10 artists>"
      ]
     },
     "execution_count": 3,
     "metadata": {},
     "output_type": "execute_result"
    },
    {
     "data": {
      "image/png": "[encoded data removed]",
      "text/plain": [
       "<Figure size 432x288 with 1 Axes>"
      ]
     },
     "metadata": {
      "needs_background": "light"
     },
     "output_type": "display_data"
    }
   ],
   "source": [
    "(n_classes, coefs) = *(len(model.classes_), model.coef_),\n",
    "support_indices = np.cumsum(model.n_support_)\n",
    "coefs = np.apply_along_axis(lambda x: np.sqrt(x.dot(x)), 1, coefs) # take the vector norm of each column\n",
    "plt.bar(list(range(len(coefs))), coefs)"
   ]
  },
  {
   "cell_type": "markdown",
   "metadata": {},
   "source": [
    "This procedure indicates that there are ten features in use, but it is unclear to the author which ten of those that are implemented are currently being considered."
   ]
  },
  {
   "cell_type": "code",
   "execution_count": null,
   "metadata": {},
   "outputs": [],
   "source": []
  }
 ],
 "metadata": {
  "kernelspec": {
   "display_name": "Python 3",
   "language": "python",
   "name": "python3"
  },
  "language_info": {
   "codemirror_mode": {
    "name": "ipython",
    "version": 3
   },
   "file_extension": ".py",
   "mimetype": "text/x-python",
   "name": "python",
   "nbconvert_exporter": "python",
   "pygments_lexer": "ipython3",
   "version": "3.7.4"
  }
 },
 "nbformat": 4,
 "nbformat_minor": 4
}
