{
 "cells": [
  {
   "cell_type": "markdown",
   "metadata": {},
   "source": [
    "Hunter S. DiCicco\n",
    "\n",
    "with Dr. Dongwon Lee, Ph.D.\n",
    "\n",
    "# Multinomial SVC for Categories of News\n",
    "\n",
    "## Diagnostics to Assess Model Performance\n",
    "\n",
    "### Setup and Imports"
   ]
  },
  {
   "cell_type": "code",
   "execution_count": 1,
   "metadata": {},
   "outputs": [
    {
     "name": "stdout",
     "output_type": "stream",
     "text": [
      "Retreiving data...\n",
      "Retreiving data...\n",
      "Retreiving data...\n",
      "Retreiving data...\n",
      "recall: [0.69642857 0.95089286 0.03125    0.30357143 0.89285714]\n",
      "precision [0.82539683 0.87295082 0.5        0.24460432 0.50632911]\n",
      "f1: [0.75544794 0.91025641 0.05882353 0.27091633 0.64620355]\n",
      "{1: 68, 2: 11, 3: 217, 5: 156, 7: 24}\n",
      "This model got 57.49999999999999 percent correct || 644 correct out of 1120\n",
      "False negatives for real data (1)\n",
      "{5: 55, 2: 13}\n",
      "False negatives for fake data (2)\n",
      "{5: 8, 7: 3}\n",
      "False negatives for opinion data (3)\n",
      "{5: 147, 2: 5, 1: 12, 7: 53}\n",
      "False negatives for polarized data (5)\n",
      "{7: 139, 3: 4, 2: 13}\n",
      "False negatives for satire data (7)\n",
      "{1: 21, 3: 3}\n"
     ]
    }
   ],
   "source": [
    "import sys\n",
    "import os\n",
    "\n",
    "os.chdir(\"../\")\n",
    "import classifier\n",
    "import validator"
   ]
  },
  {
   "cell_type": "code",
   "execution_count": null,
   "metadata": {},
   "outputs": [],
   "source": []
  }
 ],
 "metadata": {
  "kernelspec": {
   "display_name": "Python 3",
   "language": "python",
   "name": "python3"
  },
  "language_info": {
   "codemirror_mode": {
    "name": "ipython",
    "version": 3
   },
   "file_extension": ".py",
   "mimetype": "text/x-python",
   "name": "python",
   "nbconvert_exporter": "python",
   "pygments_lexer": "ipython3",
   "version": "3.7.4"
  }
 },
 "nbformat": 4,
 "nbformat_minor": 4
}
