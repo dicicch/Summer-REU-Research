{
 "cells": [
  {
   "cell_type": "markdown",
   "metadata": {},
   "source": [
    "Hunter S. DiCicco\n",
    "\n",
    "with Dr. Dongwon Lee, Ph.D.\n",
    "\n",
    "# Multinomial SVC for Categories of News\n",
    "\n",
    "## Diagnostics to Assess Model Performance\n",
    "\n",
    "### Setup and Imports"
   ]
  },
  {
   "cell_type": "code",
   "execution_count": 1,
   "metadata": {},
   "outputs": [
    {
     "name": "stdout",
     "output_type": "stream",
     "text": [
      "Retreiving data...\n",
      "Retreiving data...\n",
      "Retreiving data...\n",
      "Retreiving data...\n",
      "[LibSVM]recall: [0.7  0.95 0.03 0.3  0.9 ]\n",
      "precision [0.83 0.87 0.54 0.24 0.51]\n",
      "f1: [0.76 0.91 0.06 0.27 0.65]\n",
      "{1: 68, 2: 11, 3: 217, 5: 156, 7: 23}\n",
      "This model got 57.58% correct || 645 out of 1120\n",
      "False negatives for real data (1)\n",
      "{5: 55, 2: 13}\n",
      "False negatives for fake data (2)\n",
      "{5: 8, 7: 3}\n",
      "False negatives for opinion data (3)\n",
      "{5: 147, 2: 5, 1: 12, 7: 53}\n",
      "False negatives for polarized data (5)\n",
      "{7: 139, 3: 4, 2: 13}\n",
      "False negatives for satire data (7)\n",
      "{1: 21, 3: 2}\n"
     ]
    }
   ],
   "source": [
    "import pickle\n",
    "import glob\n",
    "import sys\n",
    "import os\n",
    "\n",
    "from subprocess import Popen\n",
    "\n",
    "import seaborn as sns\n",
    "import matplotlib.pyplot as plt\n",
    "import numpy as np\n",
    "\n",
    "try:\n",
    "    import feature_extraction\n",
    "except ModuleNotFoundError:\n",
    "    os.chdir(\"../\")\n",
    "    import feature_extraction\n",
    "\n",
    "def main():\n",
    "    \"\"\"\n",
    "    Instead of an import, we wrap the execution of both of these vital modules within `exec`.\n",
    "    This ensures that changes are enacted on every chunk evaluation.\n",
    "    \"\"\"\n",
    "    exec(open(\"classifier.py\").read(), globals())\n",
    "    exec(open(\"validator.py\").read(), globals())\n",
    "\n",
    "try:\n",
    "    main()\n",
    "except FileNotFoundError:\n",
    "    os.chdir(\"../\")\n",
    "    main()"
   ]
  },
  {
   "cell_type": "code",
   "execution_count": 2,
   "metadata": {},
   "outputs": [],
   "source": [
    "def load_latest_model(kernel='linear'):\n",
    "    \"\"\"\n",
    "    Loads and returns the latest model from the `models` directory with the user-specified kernel.\n",
    "    \"\"\"\n",
    "    # obtain a glob of the files in the `models` directory\n",
    "    list_of_files = glob.glob(f\"../models/*{kernel}*.pickle\")\n",
    "\n",
    "    # obtain the model which was created most recently\n",
    "    # using the sorting key of creation time\n",
    "    latest_model = max(list_of_files, key=os.path.getctime)\n",
    "\n",
    "    # open the most recent model and load it into the namespace\n",
    "    # WARNING: only load pickle files that you trust! do not allow arbitrary execution\n",
    "    with open(latest_model, mode=\"rb\") as filein:\n",
    "        model = pickle.load(filein)\n",
    "    return model"
   ]
  },
  {
   "cell_type": "markdown",
   "metadata": {},
   "source": [
    "NOTE: *Some of the insights used below obtained from [here](https://stackoverflow.com/a/22831491).*\n",
    "\n",
    "In the next chunk we will use our models' support vectors to perform feature selection.\n",
    "\n",
    "Each feature used in the SVM's training has its associated weight vector(s) which encode that feature's influence on assigning class label(s) during inference.\n",
    "\n",
    "In the linear case interpreting these weight vectors to select features is simple.\n",
    "\n",
    "First we will load the most recent *linear* model and obtain its support vectors.\n",
    "Our linear support matrix will be of shape `(problems, features)=(10, 18)` because there are 18 features in use for training, and `(n_classes * [(n_classes - 1) / 2])=10` one-versus-rest separation problems per feature where `n_classes=5`. In order to consider overall *feature* weight, we transpose this matrix.\n",
    "\n",
    "We will only consider the magnitude of each feature-weight vectors in order to derive feature importance. If we wish to get more granular we could inspect the differences in variance between specific classes under specific features (or elements of the feature-weight vectors).\n",
    "\n",
    "We will be calculating what are called the \"Dual Coefficients\" for this model.\n",
    "They will be contained in a vector..."
   ]
  },
  {
   "cell_type": "code",
   "execution_count": 16,
   "metadata": {},
   "outputs": [
    {
     "data": {
      "image/png": "[encoded data removed]",
      "text/plain": [
       "<Figure size 432x288 with 1 Axes>"
      ]
     },
     "metadata": {
      "needs_background": "light"
     },
     "output_type": "display_data"
    }
   ],
   "source": [
    "# list of features in use\n",
    "xlab = [\"url_ending_index\", \"from_reputable_source_index\",\n",
    "        \"today_index\", \"grammar_index\", \"quotation_index\",\n",
    "        \"past_tense_index\", \"present_tense_index\", \"should_index\",\n",
    "        \"opinion_index\", \"all_caps_index\", \"from_satire_source_index\",\n",
    "        \"exclamation_index\", \"apa_index\", \"name_source_index\",\n",
    "        \"interjection_index\", \"you_index\", \"dot_gov_ending_index\",\n",
    "        \"from_unreputable_source_index\"]\n",
    "\n",
    "# load latest linear model\n",
    "model = load_latest_model()\n",
    "\n",
    "# we are only writing procedures for linear and rbf\n",
    "# linear has easy-to-interpret feature-weight calculations\n",
    "# and rbf has a well-established process to make them simpler to interpret\n",
    "if not model.kernel in (\"linear\", \"rbf\"):\n",
    "    raise AttributeError('Initial model kernel is not linear. Only linear kernels have dual coefficients for class support weights.')\n",
    "\n",
    "# first we look at the linear model\n",
    "\n",
    "# obtain the number of classes\n",
    "# as well as weights for supports of each class\n",
    "(n_classes, coefs) = *(len(model.classes_), model.coef_.transpose()),\n",
    "\n",
    "# sort of a hack:\n",
    "# take the vector norm ([x dot x]^(1/2)) of each \n",
    "coefs = np.apply_along_axis(lambda x: np.sqrt(x.dot(x)), 1, coefs)\n",
    "\n",
    "### plotting\n",
    "ax = sns.barplot(xlab, coefs, palette=sns.color_palette(\"cubehelix\", len(xlab)))\n",
    "ax.set_title(f\"for SVC with {model.kernel} kernel and {model.gamma} gamma term\")\n",
    "plt.suptitle(\"Feature Variance\")\n",
    "ax.set_xticklabels(xlab, rotation=90)\n",
    "ax.set(xlabel='Feature', ylabel='Variance Magnitude')\n",
    "###\n",
    "\n",
    "# load latest rbf model\n",
    "model = load_latest_model(kernel='rbf')\n",
    "\n",
    "support_indices = np.cumsum(model.n_support_)\n",
    "\n",
    "coefs = [model.dual_coef_[support_indices[i - 2]:support_indices[i - 1]] for i, _ in enumerate(range(n_classes))]"
   ]
  },
  {
   "cell_type": "code",
   "execution_count": null,
   "metadata": {},
   "outputs": [],
   "source": []
  }
 ],
 "metadata": {
  "kernelspec": {
   "display_name": "Python 3",
   "language": "python",
   "name": "python3"
  },
  "language_info": {
   "codemirror_mode": {
    "name": "ipython",
    "version": 3
   },
   "file_extension": ".py",
   "mimetype": "text/x-python",
   "name": "python",
   "nbconvert_exporter": "python",
   "pygments_lexer": "ipython3",
   "version": "3.7.4"
  }
 },
 "nbformat": 4,
 "nbformat_minor": 4
}
