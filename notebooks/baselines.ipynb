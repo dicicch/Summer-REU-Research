{
 "cells": [
  {
   "cell_type": "markdown",
   "metadata": {},
   "source": [
    "# Performance Baselines\n",
    "\n",
    "In this notebook we establish the performance baselines for SysFake's unique news classification problem.\n",
    "\n",
    "We will use the results of this notebook to judge the performance of our real model.\n",
    "\n",
    "## Imports"
   ]
  },
  {
   "cell_type": "code",
   "execution_count": 29,
   "metadata": {},
   "outputs": [],
   "source": [
    "import numpy as np\n",
    "import pandas as pd\n",
    "\n",
    "from sklearn.ensemble import GradientBoostingClassifier, RandomForestClassifier\n",
    "from sklearn.model_selection import StratifiedKFold\n",
    "from sklearn.model_selection import cross_val_score\n",
    "from sklearn.kernel_approximation import Nystroem\n",
    "from sklearn.dummy import DummyClassifier"
   ]
  },
  {
   "cell_type": "markdown",
   "metadata": {},
   "source": [
    "## Data Read"
   ]
  },
  {
   "cell_type": "code",
   "execution_count": 30,
   "metadata": {},
   "outputs": [],
   "source": [
    "d_full = pd.read_csv('../data/d_full.csv')\n",
    "\n",
    "d_sub = pd.read_csv('../data/d_sub.csv')\n",
    "\n",
    "x, y = *(d_sub.drop('label', axis=1),\n",
    "         d_sub['label']),\n",
    "\n",
    "x, y = map(lambda j: j.to_numpy(), (x,y))"
   ]
  },
  {
   "cell_type": "markdown",
   "metadata": {},
   "source": [
    "## Naive Methods\n",
    "\n",
    "First we will use `sklearn.dummy.DummyClassifier` to make predictions based on simple rules such as choosing the most frequent class and randomly guessing. We score these naive predictions using weighted recall, the standard metric of this problem."
   ]
  },
  {
   "cell_type": "markdown",
   "metadata": {},
   "source": [
    "### Most Frequent"
   ]
  },
  {
   "cell_type": "code",
   "execution_count": 3,
   "metadata": {},
   "outputs": [
    {
     "name": "stderr",
     "output_type": "stream",
     "text": [
      "[Parallel(n_jobs=-1)]: Using backend LokyBackend with 8 concurrent workers.\n",
      "[Parallel(n_jobs=-1)]: Done   3 out of  10 | elapsed:    1.2s remaining:    3.0s\n",
      "[Parallel(n_jobs=-1)]: Done   7 out of  10 | elapsed:    1.2s remaining:    0.5s\n",
      "[Parallel(n_jobs=-1)]: Done  10 out of  10 | elapsed:    1.3s finished\n"
     ]
    },
    {
     "data": {
      "text/plain": [
       "array([0.30642633, 0.30642633, 0.30642633, 0.30642633, 0.30666667,\n",
       "       0.30666667, 0.30666667, 0.30666667, 0.30588235, 0.30588235])"
      ]
     },
     "execution_count": 3,
     "metadata": {},
     "output_type": "execute_result"
    }
   ],
   "source": [
    "cross_val_score(DummyClassifier(strategy='most_frequent'),\n",
    "                x, y,\n",
    "                scoring='recall_weighted',\n",
    "                cv=StratifiedKFold(n_splits=10, shuffle=True),\n",
    "                verbose=3, n_jobs=-1)"
   ]
  },
  {
   "cell_type": "markdown",
   "metadata": {},
   "source": [
    "### Random Guessing"
   ]
  },
  {
   "cell_type": "code",
   "execution_count": 4,
   "metadata": {},
   "outputs": [
    {
     "name": "stderr",
     "output_type": "stream",
     "text": [
      "[Parallel(n_jobs=-1)]: Using backend LokyBackend with 8 concurrent workers.\n",
      "[Parallel(n_jobs=-1)]: Done   3 out of  10 | elapsed:    0.0s remaining:    0.0s\n",
      "[Parallel(n_jobs=-1)]: Done   7 out of  10 | elapsed:    0.0s remaining:    0.0s\n",
      "[Parallel(n_jobs=-1)]: Done  10 out of  10 | elapsed:    0.0s finished\n"
     ]
    },
    {
     "data": {
      "text/plain": [
       "array([0.15125392, 0.12774295, 0.14184953, 0.13479624, 0.14901961,\n",
       "       0.15529412, 0.12156863, 0.12784314, 0.14509804, 0.13411765])"
      ]
     },
     "execution_count": 4,
     "metadata": {},
     "output_type": "execute_result"
    }
   ],
   "source": [
    "cross_val_score(DummyClassifier(strategy='uniform'),\n",
    "                x, y,\n",
    "                scoring='recall_weighted',\n",
    "                cv=StratifiedKFold(n_splits=10, shuffle=True),\n",
    "                verbose=3, n_jobs=-1)"
   ]
  },
  {
   "cell_type": "markdown",
   "metadata": {},
   "source": [
    "## Start-High Performance Ceiling\n",
    "\n",
    "Now we will try two models which have very high maximal performance in order to approximate the ceiling for how well we can do on this problem.\n",
    "\n",
    "We will do trials with random forests and a gradient boosting learner.\n",
    "\n",
    "While we value the recall (one of the most true-positive sensitive metrics in machine learning) for our problem, we need our model to be simple enough to potentially run locally on a user's machine (in a latency/server downtime scenario). Both of the ceiling models are computationally expensive, given that they produce deep trees."
   ]
  },
  {
   "cell_type": "code",
   "execution_count": 31,
   "metadata": {},
   "outputs": [],
   "source": [
    "chi2_approx = Nystroem(kernel='chi2').fit_transform(x, y)\n",
    "\n",
    "rfc = RandomForestClassifier(n_jobs=-1)\n",
    "gbc = GradientBoostingClassifier()"
   ]
  },
  {
   "cell_type": "code",
   "execution_count": 6,
   "metadata": {},
   "outputs": [
    {
     "name": "stderr",
     "output_type": "stream",
     "text": [
      "[Parallel(n_jobs=-1)]: Using backend LokyBackend with 8 concurrent workers.\n",
      "[Parallel(n_jobs=-1)]: Done   3 out of  10 | elapsed:    2.8s remaining:    6.7s\n",
      "[Parallel(n_jobs=-1)]: Done   7 out of  10 | elapsed:    2.8s remaining:    1.2s\n",
      "[Parallel(n_jobs=-1)]: Done  10 out of  10 | elapsed:    3.7s finished\n"
     ]
    },
    {
     "data": {
      "text/plain": [
       "array([0.69357367, 0.69043887, 0.70611285, 0.68495298, 0.68313725,\n",
       "       0.68470588, 0.67843137, 0.69098039, 0.68392157, 0.69411765])"
      ]
     },
     "execution_count": 6,
     "metadata": {},
     "output_type": "execute_result"
    }
   ],
   "source": [
    "scores = cross_val_score(rfc,\n",
    "                         x, y,\n",
    "                         scoring='recall_weighted',\n",
    "                         cv=StratifiedKFold(n_splits=10, shuffle=True),\n",
    "                         verbose=3, n_jobs=-1)\n",
    "scores"
   ]
  },
  {
   "cell_type": "code",
   "execution_count": 7,
   "metadata": {},
   "outputs": [
    {
     "data": {
      "text/plain": [
       "0.6890372487553015"
      ]
     },
     "execution_count": 7,
     "metadata": {},
     "output_type": "execute_result"
    }
   ],
   "source": [
    "np.mean(scores)"
   ]
  },
  {
   "cell_type": "code",
   "execution_count": 8,
   "metadata": {},
   "outputs": [
    {
     "name": "stderr",
     "output_type": "stream",
     "text": [
      "[Parallel(n_jobs=-1)]: Using backend LokyBackend with 8 concurrent workers.\n",
      "[Parallel(n_jobs=-1)]: Done   3 out of  10 | elapsed:   19.2s remaining:   44.9s\n",
      "[Parallel(n_jobs=-1)]: Done   7 out of  10 | elapsed:   20.0s remaining:    8.5s\n",
      "[Parallel(n_jobs=-1)]: Done  10 out of  10 | elapsed:   30.8s finished\n"
     ]
    },
    {
     "data": {
      "text/plain": [
       "array([0.70376176, 0.69435737, 0.69200627, 0.70846395, 0.68705882,\n",
       "       0.6745098 , 0.69647059, 0.6972549 , 0.68470588, 0.69803922])"
      ]
     },
     "execution_count": 8,
     "metadata": {},
     "output_type": "execute_result"
    }
   ],
   "source": [
    "scores = cross_val_score(gbc,\n",
    "                         x, y,\n",
    "                         scoring='recall_weighted',\n",
    "                         cv=StratifiedKFold(n_splits=10, shuffle=True),\n",
    "                         verbose=3, n_jobs=-1)\n",
    "scores"
   ]
  },
  {
   "cell_type": "code",
   "execution_count": 9,
   "metadata": {},
   "outputs": [
    {
     "data": {
      "text/plain": [
       "0.6936628557379064"
      ]
     },
     "execution_count": 9,
     "metadata": {},
     "output_type": "execute_result"
    }
   ],
   "source": [
    "np.mean(scores)"
   ]
  },
  {
   "cell_type": "code",
   "execution_count": 32,
   "metadata": {},
   "outputs": [
    {
     "name": "stderr",
     "output_type": "stream",
     "text": [
      "[Parallel(n_jobs=-1)]: Using backend LokyBackend with 8 concurrent workers.\n",
      "[Parallel(n_jobs=-1)]: Done   3 out of  10 | elapsed:   18.8s remaining:   44.1s\n",
      "[Parallel(n_jobs=-1)]: Done   7 out of  10 | elapsed:   19.7s remaining:    8.4s\n",
      "[Parallel(n_jobs=-1)]: Done  10 out of  10 | elapsed:   23.9s finished\n"
     ]
    },
    {
     "data": {
      "text/plain": [
       "array([0.71551724, 0.6653605 , 0.69670846, 0.67163009, 0.68      ,\n",
       "       0.6972549 , 0.68705882, 0.69254902, 0.69803922, 0.67215686])"
      ]
     },
     "execution_count": 32,
     "metadata": {},
     "output_type": "execute_result"
    }
   ],
   "source": [
    "scores = cross_val_score(rfc,\n",
    "                         chi2_approx, y,\n",
    "                         scoring='recall_weighted',\n",
    "                         cv=StratifiedKFold(n_splits=10, shuffle=True),\n",
    "                         verbose=3, n_jobs=-1)\n",
    "scores"
   ]
  },
  {
   "cell_type": "code",
   "execution_count": 33,
   "metadata": {},
   "outputs": [
    {
     "data": {
      "text/plain": [
       "0.6876275124469851"
      ]
     },
     "execution_count": 33,
     "metadata": {},
     "output_type": "execute_result"
    }
   ],
   "source": [
    "np.mean(scores)"
   ]
  },
  {
   "cell_type": "code",
   "execution_count": 36,
   "metadata": {},
   "outputs": [
    {
     "name": "stderr",
     "output_type": "stream",
     "text": [
      "[Parallel(n_jobs=-1)]: Using backend LokyBackend with 8 concurrent workers.\n",
      "[Parallel(n_jobs=-1)]: Done   3 out of  10 | elapsed:  5.5min remaining: 12.9min\n",
      "[Parallel(n_jobs=-1)]: Done   7 out of  10 | elapsed:  5.6min remaining:  2.4min\n",
      "[Parallel(n_jobs=-1)]: Done  10 out of  10 | elapsed:  9.0min finished\n"
     ]
    },
    {
     "data": {
      "text/plain": [
       "array([0.69905956, 0.69043887, 0.69278997, 0.70141066, 0.69176471,\n",
       "       0.71294118, 0.6972549 , 0.70117647, 0.67921569, 0.68941176])"
      ]
     },
     "execution_count": 36,
     "metadata": {},
     "output_type": "execute_result"
    }
   ],
   "source": [
    "scores = cross_val_score(gbc,\n",
    "                         chi2_approx, y,\n",
    "                         scoring='recall_weighted',\n",
    "                         cv=StratifiedKFold(n_splits=10, shuffle=True),\n",
    "                         verbose=3, n_jobs=-1)\n",
    "scores"
   ]
  },
  {
   "cell_type": "code",
   "execution_count": 37,
   "metadata": {},
   "outputs": [
    {
     "data": {
      "text/plain": [
       "0.6955463765443483"
      ]
     },
     "execution_count": 37,
     "metadata": {},
     "output_type": "execute_result"
    }
   ],
   "source": [
    "np.mean(scores)"
   ]
  },
  {
   "cell_type": "code",
   "execution_count": null,
   "metadata": {},
   "outputs": [],
   "source": []
  }
 ],
 "metadata": {
  "kernelspec": {
   "display_name": "Python 3",
   "language": "python",
   "name": "python3"
  },
  "language_info": {
   "codemirror_mode": {
    "name": "ipython",
    "version": 3
   },
   "file_extension": ".py",
   "mimetype": "text/x-python",
   "name": "python",
   "nbconvert_exporter": "python",
   "pygments_lexer": "ipython3",
   "version": "3.7.6"
  }
 },
 "nbformat": 4,
 "nbformat_minor": 4
}
