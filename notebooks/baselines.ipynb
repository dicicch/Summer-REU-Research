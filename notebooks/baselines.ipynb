{
 "cells": [
  {
   "cell_type": "markdown",
   "metadata": {},
   "source": [
    "# Performance Baselines\n",
    "\n",
    "In this notebook we establish the performance baselines for SysFake's unique news classification problem.\n",
    "\n",
    "We will use the results of this notebook to judge the performance of our real model.\n",
    "\n",
    "## Imports"
   ]
  },
  {
   "cell_type": "code",
   "execution_count": 1,
   "metadata": {},
   "outputs": [],
   "source": [
    "import pickle\n",
    "\n",
    "import numpy as np\n",
    "import pandas as pd\n",
    "\n",
    "from sklearn.ensemble import GradientBoostingClassifier, RandomForestClassifier\n",
    "from sklearn.model_selection import StratifiedKFold\n",
    "from sklearn.naive_bayes import MultinomialNB\n",
    "from sklearn.model_selection import cross_val_score\n",
    "from sklearn.kernel_approximation import Nystroem\n",
    "from sklearn.metrics.pairwise import chi2_kernel\n",
    "from sklearn.preprocessing import robust_scale, normalize, minmax_scale\n",
    "from sklearn.metrics import confusion_matrix, classification_report\n",
    "from sklearn.dummy import DummyClassifier"
   ]
  },
  {
   "cell_type": "markdown",
   "metadata": {},
   "source": [
    "## Data Read"
   ]
  },
  {
   "cell_type": "code",
   "execution_count": 2,
   "metadata": {},
   "outputs": [],
   "source": [
    "d_full = pd.read_csv('../data/d_full_nonorm.csv')\n",
    "\n",
    "d_sub = pd.read_csv('../data/d_sub.csv')\n",
    "\n",
    "d_test = pd.read_csv('../data/human_test_vectors.csv')\n",
    "\n",
    "d_concat = pd.concat((d_full, d_test))\n",
    "\n",
    "x, y = *(d_full.drop('label', axis=1),\n",
    "         d_full['label']),\n",
    "\n",
    "x, y = map(lambda j: j.to_numpy(), (x,y))"
   ]
  },
  {
   "cell_type": "markdown",
   "metadata": {},
   "source": [
    "## Naive Methods\n",
    "\n",
    "First we will use `sklearn.dummy.DummyClassifier` to make predictions based on simple rules such as choosing the most frequent class and randomly guessing. We score these naive predictions using weighted recall, the standard metric of this problem."
   ]
  },
  {
   "cell_type": "markdown",
   "metadata": {},
   "source": [
    "### Most Frequent"
   ]
  },
  {
   "cell_type": "code",
   "execution_count": 3,
   "metadata": {},
   "outputs": [
    {
     "name": "stderr",
     "output_type": "stream",
     "text": [
      "[Parallel(n_jobs=-1)]: Using backend LokyBackend with 8 concurrent workers.\n",
      "[Parallel(n_jobs=-1)]: Done   3 out of  10 | elapsed:    1.1s remaining:    2.7s\n",
      "[Parallel(n_jobs=-1)]: Done   7 out of  10 | elapsed:    1.1s remaining:    0.4s\n",
      "[Parallel(n_jobs=-1)]: Done  10 out of  10 | elapsed:    1.1s finished\n"
     ]
    },
    {
     "data": {
      "text/plain": [
       "array([0.30642633, 0.30642633, 0.30642633, 0.30642633, 0.30642633,\n",
       "       0.30666667, 0.30666667, 0.30666667, 0.30588235, 0.30588235])"
      ]
     },
     "execution_count": 3,
     "metadata": {},
     "output_type": "execute_result"
    }
   ],
   "source": [
    "cross_val_score(DummyClassifier(strategy='most_frequent'),\n",
    "                x, y,\n",
    "                scoring='recall_weighted',\n",
    "                cv=StratifiedKFold(n_splits=10, shuffle=True),\n",
    "                verbose=3, n_jobs=-1)"
   ]
  },
  {
   "cell_type": "markdown",
   "metadata": {},
   "source": [
    "### Random Guessing"
   ]
  },
  {
   "cell_type": "code",
   "execution_count": 4,
   "metadata": {},
   "outputs": [
    {
     "name": "stderr",
     "output_type": "stream",
     "text": [
      "[Parallel(n_jobs=-1)]: Using backend LokyBackend with 8 concurrent workers.\n",
      "[Parallel(n_jobs=-1)]: Done   3 out of  10 | elapsed:    0.0s remaining:    0.0s\n",
      "[Parallel(n_jobs=-1)]: Done   7 out of  10 | elapsed:    0.0s remaining:    0.0s\n",
      "[Parallel(n_jobs=-1)]: Done  10 out of  10 | elapsed:    0.0s finished\n"
     ]
    },
    {
     "data": {
      "text/plain": [
       "array([0.14733542, 0.14106583, 0.14655172, 0.12617555, 0.13949843,\n",
       "       0.14509804, 0.13490196, 0.14431373, 0.15294118, 0.14509804])"
      ]
     },
     "execution_count": 4,
     "metadata": {},
     "output_type": "execute_result"
    }
   ],
   "source": [
    "cross_val_score(DummyClassifier(strategy='uniform'),\n",
    "                x, y,\n",
    "                scoring='recall_weighted',\n",
    "                cv=StratifiedKFold(n_splits=10, shuffle=True),\n",
    "                verbose=3, n_jobs=-1)"
   ]
  },
  {
   "cell_type": "markdown",
   "metadata": {},
   "source": [
    "## Start-High Performance Ceiling\n",
    "\n",
    "Now we will try two models which have very high maximal performance in order to approximate the ceiling for how well we can do on this problem.\n",
    "\n",
    "We will do trials with random forests and a gradient boosting learner.\n",
    "\n",
    "While we value the recall (one of the most true-positive sensitive metrics in machine learning) for our problem, we need our model to be simple enough to potentially run locally on a user's machine (in a latency/server downtime scenario). Both of the ceiling models are computationally expensive, given that they produce deep trees."
   ]
  },
  {
   "cell_type": "code",
   "execution_count": 5,
   "metadata": {},
   "outputs": [],
   "source": [
    "c2_x = chi2_kernel(x)"
   ]
  },
  {
   "cell_type": "code",
   "execution_count": 6,
   "metadata": {},
   "outputs": [],
   "source": [
    "chi2_approx = Nystroem(kernel='chi2').fit_transform(x, y)\n",
    "\n",
    "rfc = RandomForestClassifier(n_jobs=-1)\n",
    "gbc = GradientBoostingClassifier()\n",
    "mnb = MultinomialNB()"
   ]
  },
  {
   "cell_type": "code",
   "execution_count": 7,
   "metadata": {},
   "outputs": [
    {
     "name": "stderr",
     "output_type": "stream",
     "text": [
      "[Parallel(n_jobs=-1)]: Using backend LokyBackend with 8 concurrent workers.\n",
      "[Parallel(n_jobs=-1)]: Done   3 out of  10 | elapsed:    3.4s remaining:    8.0s\n",
      "[Parallel(n_jobs=-1)]: Done   7 out of  10 | elapsed:    3.4s remaining:    1.4s\n",
      "[Parallel(n_jobs=-1)]: Done  10 out of  10 | elapsed:    4.2s finished\n"
     ]
    },
    {
     "data": {
      "text/plain": [
       "array([0.73902821, 0.73354232, 0.72100313, 0.72805643, 0.7468652 ,\n",
       "       0.7254902 , 0.73803922, 0.73176471, 0.73647059, 0.72156863])"
      ]
     },
     "execution_count": 7,
     "metadata": {},
     "output_type": "execute_result"
    }
   ],
   "source": [
    "scores = cross_val_score(rfc,\n",
    "                         x, y,\n",
    "                         scoring='recall_weighted',\n",
    "                         cv=StratifiedKFold(n_splits=10, shuffle=True),\n",
    "                         verbose=3, n_jobs=-1)\n",
    "scores"
   ]
  },
  {
   "cell_type": "code",
   "execution_count": 8,
   "metadata": {},
   "outputs": [
    {
     "data": {
      "text/plain": [
       "0.7321828631138976"
      ]
     },
     "execution_count": 8,
     "metadata": {},
     "output_type": "execute_result"
    }
   ],
   "source": [
    "np.mean(scores)"
   ]
  },
  {
   "cell_type": "code",
   "execution_count": 9,
   "metadata": {},
   "outputs": [
    {
     "data": {
      "text/plain": [
       "RandomForestClassifier(n_jobs=-1)"
      ]
     },
     "execution_count": 9,
     "metadata": {},
     "output_type": "execute_result"
    }
   ],
   "source": [
    "rfc.fit(x, y)"
   ]
  },
  {
   "cell_type": "code",
   "execution_count": 10,
   "metadata": {},
   "outputs": [
    {
     "name": "stderr",
     "output_type": "stream",
     "text": [
      "[Parallel(n_jobs=-1)]: Using backend LokyBackend with 8 concurrent workers.\n",
      "[Parallel(n_jobs=-1)]: Done   3 out of  10 | elapsed:   28.5s remaining:  1.1min\n",
      "[Parallel(n_jobs=-1)]: Done   7 out of  10 | elapsed:   29.3s remaining:   12.5s\n",
      "[Parallel(n_jobs=-1)]: Done  10 out of  10 | elapsed:   43.3s finished\n"
     ]
    },
    {
     "data": {
      "text/plain": [
       "array([0.72335423, 0.71003135, 0.73667712, 0.70689655, 0.72727273,\n",
       "       0.71764706, 0.72862745, 0.72705882, 0.73254902, 0.71764706])"
      ]
     },
     "execution_count": 10,
     "metadata": {},
     "output_type": "execute_result"
    }
   ],
   "source": [
    "scores = cross_val_score(gbc,\n",
    "                         x, y,\n",
    "                         scoring='recall_weighted',\n",
    "                         cv=StratifiedKFold(n_splits=5, shuffle=True),\n",
    "                         verbose=3, n_jobs=-1)\n",
    "scores"
   ]
  },
  {
   "cell_type": "code",
   "execution_count": 11,
   "metadata": {},
   "outputs": [
    {
     "data": {
      "text/plain": [
       "0.7227761386686335"
      ]
     },
     "execution_count": 11,
     "metadata": {},
     "output_type": "execute_result"
    }
   ],
   "source": [
    "np.mean(scores)"
   ]
  },
  {
   "cell_type": "code",
   "execution_count": 12,
   "metadata": {},
   "outputs": [
    {
     "data": {
      "text/plain": [
       "GradientBoostingClassifier()"
      ]
     },
     "execution_count": 12,
     "metadata": {},
     "output_type": "execute_result"
    }
   ],
   "source": [
    "gbc.fit(x, y)"
   ]
  },
  {
   "cell_type": "code",
   "execution_count": 13,
   "metadata": {},
   "outputs": [
    {
     "name": "stderr",
     "output_type": "stream",
     "text": [
      "[Parallel(n_jobs=-1)]: Using backend LokyBackend with 8 concurrent workers.\n",
      "[Parallel(n_jobs=-1)]: Done   3 out of  10 | elapsed:   17.2s remaining:   40.3s\n",
      "[Parallel(n_jobs=-1)]: Done   7 out of  10 | elapsed:   17.3s remaining:    7.3s\n",
      "[Parallel(n_jobs=-1)]: Done  10 out of  10 | elapsed:   22.1s finished\n"
     ]
    },
    {
     "data": {
      "text/plain": [
       "array([0.72805643, 0.71473354, 0.72257053, 0.71316614, 0.71865204,\n",
       "       0.72627451, 0.72      , 0.72941176, 0.71843137, 0.72156863])"
      ]
     },
     "execution_count": 13,
     "metadata": {},
     "output_type": "execute_result"
    }
   ],
   "source": [
    "scores = cross_val_score(rfc,\n",
    "                         chi2_approx, y,\n",
    "                         scoring='recall_weighted',\n",
    "                         cv=StratifiedKFold(n_splits=5, shuffle=True),\n",
    "                         verbose=3, n_jobs=-1)\n",
    "scores"
   ]
  },
  {
   "cell_type": "code",
   "execution_count": 14,
   "metadata": {},
   "outputs": [
    {
     "data": {
      "text/plain": [
       "0.7212864957895384"
      ]
     },
     "execution_count": 14,
     "metadata": {},
     "output_type": "execute_result"
    }
   ],
   "source": [
    "np.mean(scores)"
   ]
  },
  {
   "cell_type": "code",
   "execution_count": 15,
   "metadata": {},
   "outputs": [],
   "source": [
    "d_test[d_test.columns[:-1]] = normalize(minmax_scale(robust_scale(d_test[d_test.columns[:-1]])), axis=1)\n",
    "\n",
    "x_test, y_test = *(d_test.drop('label', axis=1),\n",
    "                   d_test['label']),\n",
    "\n",
    "x_test, y_test = map(lambda j: j.to_numpy(), (x_test, y_test))"
   ]
  },
  {
   "cell_type": "code",
   "execution_count": 16,
   "metadata": {},
   "outputs": [],
   "source": [
    "with open('../models/best-model-rscv-full_kernel-linear_C-7971.3078975898925_breakties-False.pickle', mode='rb') as filein:\n",
    "    svc = pickle.load(filein)\n",
    "\n",
    "with open('../models/best_model_rscv_pl-Nys-SGD_p62.pickle', mode='rb') as filein:\n",
    "    ksgd = pickle.load(filein)\n",
    "\n",
    "with open('../models/best_model_rscv_SGD_p63.pickle', mode='rb') as filein:\n",
    "    sgd = pickle.load(filein)"
   ]
  },
  {
   "cell_type": "code",
   "execution_count": 17,
   "metadata": {},
   "outputs": [],
   "source": [
    "svc_pred = svc.predict(x_test)\n",
    "ksgd_pred = ksgd.predict(x_test)\n",
    "sgd_pred = sgd.predict(x_test)\n",
    "rfc_pred = rfc.predict(x_test)\n",
    "gbc_pred = gbc.predict(x_test)"
   ]
  },
  {
   "cell_type": "code",
   "execution_count": 18,
   "metadata": {},
   "outputs": [
    {
     "name": "stdout",
     "output_type": "stream",
     "text": [
      "-----------------------------------------------------\n",
      "C-support SVM:\n",
      "              precision    recall  f1-score   support\n",
      "\n",
      "           1       0.00      0.00      0.00         6\n",
      "           2       0.19      0.67      0.30         6\n",
      "           3       1.00      0.20      0.33        10\n",
      "           5       0.05      0.17      0.08         6\n",
      "           7       0.09      0.17      0.12         6\n",
      "           9       0.00      0.00      0.00        13\n",
      "          11       0.00      0.00      0.00         6\n",
      "\n",
      "    accuracy                           0.15        53\n",
      "   macro avg       0.19      0.17      0.12        53\n",
      "weighted avg       0.23      0.15      0.12        53\n",
      "\n",
      "[[0 1 0 4 1 0 0]\n",
      " [0 4 0 2 0 0 0]\n",
      " [0 1 2 5 2 0 0]\n",
      " [0 2 0 1 3 0 0]\n",
      " [0 3 0 2 1 0 0]\n",
      " [0 5 0 4 4 0 0]\n",
      " [0 5 0 1 0 0 0]]\n",
      "-----------------------------------------------------\n",
      "Chi Squared SGD:\n",
      "              precision    recall  f1-score   support\n",
      "\n",
      "           1       0.00      0.00      0.00         6\n",
      "           2       0.14      1.00      0.24         6\n",
      "           3       1.00      0.50      0.67        10\n",
      "           5       0.40      0.33      0.36         6\n",
      "           7       0.00      0.00      0.00         6\n",
      "           9       0.00      0.00      0.00        13\n",
      "          11       0.00      0.00      0.00         6\n",
      "\n",
      "    accuracy                           0.25        53\n",
      "   macro avg       0.22      0.26      0.18        53\n",
      "weighted avg       0.25      0.25      0.19        53\n",
      "\n",
      "[[ 0  4  0  2  0  0  0]\n",
      " [ 0  6  0  0  0  0  0]\n",
      " [ 0  5  5  0  0  0  0]\n",
      " [ 0  4  0  2  0  0  0]\n",
      " [ 0  5  0  1  0  0  0]\n",
      " [ 0 13  0  0  0  0  0]\n",
      " [ 0  6  0  0  0  0  0]]\n",
      "-----------------------------------------------------\n",
      "Vanilla SGD:\n",
      "              precision    recall  f1-score   support\n",
      "\n",
      "           1       0.00      0.00      0.00         6\n",
      "           2       0.11      0.67      0.18         6\n",
      "           3       1.00      0.50      0.67        10\n",
      "           5       0.30      0.50      0.37         6\n",
      "           7       0.00      0.00      0.00         6\n",
      "           9       0.00      0.00      0.00        13\n",
      "          11       0.00      0.00      0.00         6\n",
      "\n",
      "    accuracy                           0.23        53\n",
      "   macro avg       0.20      0.24      0.17        53\n",
      "weighted avg       0.23      0.23      0.19        53\n",
      "\n",
      "[[ 0  4  0  2  0  0  0]\n",
      " [ 0  4  0  2  0  0  0]\n",
      " [ 0  5  5  0  0  0  0]\n",
      " [ 0  3  0  3  0  0  0]\n",
      " [ 0  4  0  2  0  0  0]\n",
      " [ 0 12  0  1  0  0  0]\n",
      " [ 0  6  0  0  0  0  0]]\n",
      "-----------------------------------------------------\n",
      "Random Forest:\n",
      "              precision    recall  f1-score   support\n",
      "\n",
      "           1       0.00      0.00      0.00         6\n",
      "           2       0.19      0.67      0.30         6\n",
      "           3       0.22      0.20      0.21        10\n",
      "           5       0.22      0.83      0.34         6\n",
      "           7       0.00      0.00      0.00         6\n",
      "           9       0.00      0.00      0.00        13\n",
      "          11       0.00      0.00      0.00         6\n",
      "\n",
      "    accuracy                           0.21        53\n",
      "   macro avg       0.09      0.24      0.12        53\n",
      "weighted avg       0.09      0.21      0.11        53\n",
      "\n",
      "[[0 1 4 1 0 0 0]\n",
      " [0 4 1 1 0 0 0]\n",
      " [0 0 2 8 0 0 0]\n",
      " [0 1 0 5 0 0 0]\n",
      " [0 3 1 2 0 0 0]\n",
      " [0 8 0 5 0 0 0]\n",
      " [0 4 1 1 0 0 0]]\n",
      "-----------------------------------------------------\n",
      "Gradient Boosting:\n",
      "              precision    recall  f1-score   support\n",
      "\n",
      "           1       0.33      0.50      0.40         6\n",
      "           2       0.19      0.67      0.30         6\n",
      "           3       0.24      0.40      0.30        10\n",
      "           5       0.17      0.17      0.17         6\n",
      "           7       0.00      0.00      0.00         6\n",
      "           9       0.00      0.00      0.00        13\n",
      "          11       0.00      0.00      0.00         6\n",
      "\n",
      "    accuracy                           0.23        53\n",
      "   macro avg       0.13      0.25      0.17        53\n",
      "weighted avg       0.12      0.23      0.15        53\n",
      "\n",
      "[[3 0 2 1 0 0 0]\n",
      " [0 4 1 1 0 0 0]\n",
      " [2 4 4 0 0 0 0]\n",
      " [0 3 2 1 0 0 0]\n",
      " [1 3 1 1 0 0 0]\n",
      " [2 3 6 2 0 0 0]\n",
      " [1 4 1 0 0 0 0]]\n"
     ]
    }
   ],
   "source": [
    "for method, predictions in dict(zip(('C-support SVM', 'Chi Squared SGD', 'Vanilla SGD', 'Random Forest', 'Gradient Boosting'), (svc_pred, ksgd_pred, sgd_pred, rfc_pred, gbc_pred))).items():\n",
    "    print('-'*53)\n",
    "    print(f\"{method}:\")\n",
    "    print(classification_report(y_pred=predictions, y_true=y_test, zero_division=0))\n",
    "    print(confusion_matrix(y_true=y_test, y_pred=predictions))"
   ]
  },
  {
   "cell_type": "code",
   "execution_count": null,
   "metadata": {},
   "outputs": [],
   "source": []
  }
 ],
 "metadata": {
  "kernelspec": {
   "display_name": "Python 3",
   "language": "python",
   "name": "python3"
  },
  "language_info": {
   "codemirror_mode": {
    "name": "ipython",
    "version": 3
   },
   "file_extension": ".py",
   "mimetype": "text/x-python",
   "name": "python",
   "nbconvert_exporter": "python",
   "pygments_lexer": "ipython3",
   "version": "3.7.6"
  }
 },
 "nbformat": 4,
 "nbformat_minor": 4
}
