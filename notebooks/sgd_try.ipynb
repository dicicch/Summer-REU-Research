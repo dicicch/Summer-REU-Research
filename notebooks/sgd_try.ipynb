{
 "cells": [
  {
   "cell_type": "code",
   "execution_count": 29,
   "metadata": {},
   "outputs": [],
   "source": [
    "import numpy as np\n",
    "import pandas as pd\n",
    "\n",
    "import matplotlib.pyplot as plt\n",
    "\n",
    "from scipy.stats import f_oneway, uniform\n",
    "\n",
    "from sklearn.model_selection import cross_val_score, GridSearchCV, RandomizedSearchCV, StratifiedKFold\n",
    "from sklearn.metrics.pairwise import kernel_metrics, chi2_kernel\n",
    "from sklearn.kernel_approximation import Nystroem\n",
    "from sklearn.linear_model import SGDClassifier\n",
    "from sklearn.pipeline import Pipeline"
   ]
  },
  {
   "cell_type": "markdown",
   "metadata": {},
   "source": [
    "`sklearn.metrics.pairwise.kernel_metrics()` to list available kernels"
   ]
  },
  {
   "cell_type": "code",
   "execution_count": 2,
   "metadata": {},
   "outputs": [
    {
     "data": {
      "text/plain": [
       "{'additive_chi2': <function sklearn.metrics.pairwise.additive_chi2_kernel(X, Y=None)>,\n",
       " 'chi2': <function sklearn.metrics.pairwise.chi2_kernel(X, Y=None, gamma=1.0)>,\n",
       " 'linear': <function sklearn.metrics.pairwise.linear_kernel(X, Y=None, dense_output=True)>,\n",
       " 'polynomial': <function sklearn.metrics.pairwise.polynomial_kernel(X, Y=None, degree=3, gamma=None, coef0=1)>,\n",
       " 'poly': <function sklearn.metrics.pairwise.polynomial_kernel(X, Y=None, degree=3, gamma=None, coef0=1)>,\n",
       " 'rbf': <function sklearn.metrics.pairwise.rbf_kernel(X, Y=None, gamma=None)>,\n",
       " 'laplacian': <function sklearn.metrics.pairwise.laplacian_kernel(X, Y=None, gamma=None)>,\n",
       " 'sigmoid': <function sklearn.metrics.pairwise.sigmoid_kernel(X, Y=None, gamma=None, coef0=1)>,\n",
       " 'cosine': <function sklearn.metrics.pairwise.cosine_similarity(X, Y=None, dense_output=True)>}"
      ]
     },
     "execution_count": 2,
     "metadata": {},
     "output_type": "execute_result"
    }
   ],
   "source": [
    "kernel_metrics()"
   ]
  },
  {
   "cell_type": "markdown",
   "metadata": {},
   "source": [
    "Each of these are interesting in their own ways, but the most applicable to our case will be `additive_chi2` and `chi2`, `linear`, `rbf` and `laplacian`. We will do trials of each, but `rbf` will be approximated using the `sklearn.kernel_approximation.Nystroem` method since it is intractable with so many samples especially if we need to enable probability prediction."
   ]
  },
  {
   "cell_type": "markdown",
   "metadata": {},
   "source": [
    "## Data Read"
   ]
  },
  {
   "cell_type": "code",
   "execution_count": 3,
   "metadata": {},
   "outputs": [],
   "source": [
    "#d_full = pd.read_csv('../data/d_full.csv')\n",
    "\n",
    "d_sub = pd.read_csv('../data/d_sub.csv')\n",
    "\n",
    "x, y = *(d_sub.drop('label', axis=1),\n",
    "         d_sub['label']),\n",
    "\n",
    "x, y = map(lambda j: j.to_numpy(), (x,y))"
   ]
  },
  {
   "cell_type": "markdown",
   "metadata": {},
   "source": [
    "## SGD Initialization"
   ]
  },
  {
   "cell_type": "code",
   "execution_count": 4,
   "metadata": {},
   "outputs": [],
   "source": [
    "sgd = SGDClassifier(loss='log',\n",
    "                    penalty='l1',\n",
    "                    #early_stopping=True,\n",
    "                    class_weight='balanced',\n",
    "                    n_jobs=-1)"
   ]
  },
  {
   "cell_type": "markdown",
   "metadata": {},
   "source": [
    "## Example Nystroem Approximation"
   ]
  },
  {
   "cell_type": "code",
   "execution_count": 5,
   "metadata": {},
   "outputs": [
    {
     "data": {
      "text/plain": [
       "array([[0.11451708, 0.08217092, 0.11872506, ..., 0.08559195, 0.09962076,\n",
       "        0.11384289],\n",
       "       [0.11983949, 0.08751207, 0.11734879, ..., 0.08650443, 0.10076226,\n",
       "        0.11959003],\n",
       "       [0.1085166 , 0.08113089, 0.11624793, ..., 0.08114507, 0.1026565 ,\n",
       "        0.10776122],\n",
       "       ...,\n",
       "       [0.11992528, 0.07454495, 0.0950647 , ..., 0.07263699, 0.08445363,\n",
       "        0.11384676],\n",
       "       [0.1187278 , 0.07292577, 0.09770222, ..., 0.07517644, 0.08422444,\n",
       "        0.11301359],\n",
       "       [0.11969643, 0.08432306, 0.12407968, ..., 0.09356894, 0.09749928,\n",
       "        0.12015452]])"
      ]
     },
     "execution_count": 5,
     "metadata": {},
     "output_type": "execute_result"
    }
   ],
   "source": [
    "chi2_approx = Nystroem(kernel='rbf').fit_transform(x, y)\n",
    "chi2_approx"
   ]
  },
  {
   "cell_type": "code",
   "execution_count": 6,
   "metadata": {},
   "outputs": [
    {
     "data": {
      "text/plain": [
       "array([0.70991768, 0.59427675, 0.56722854, 0.60329283, 0.56509804])"
      ]
     },
     "execution_count": 6,
     "metadata": {},
     "output_type": "execute_result"
    }
   ],
   "source": [
    "scores = cross_val_score(sgd, chi2_approx, y, scoring='precision_micro', cv=5)\n",
    "scores"
   ]
  },
  {
   "cell_type": "code",
   "execution_count": 7,
   "metadata": {},
   "outputs": [
    {
     "data": {
      "text/plain": [
       "array([0.70168561, 0.59074873, 0.58447668, 0.64131713, 0.56352941])"
      ]
     },
     "execution_count": 7,
     "metadata": {},
     "output_type": "execute_result"
    }
   ],
   "source": [
    "scores = cross_val_score(sgd, chi2_approx, y, scoring='recall_micro', cv=5)\n",
    "scores"
   ]
  },
  {
   "cell_type": "code",
   "execution_count": 8,
   "metadata": {},
   "outputs": [],
   "source": [
    "def train(clf, x, y, kernel='rbf', scoring=None, folds=5, verbose=0, **kwargs):\n",
    "    approx = Nystroem(kernel=kernel, kernel_params=dict(**kwargs)).fit_transform(x, y)\n",
    "    return cross_val_score(clf,\n",
    "                           approx, y,\n",
    "                           scoring=scoring,\n",
    "                           cv=StratifiedKFold(n_splits=folds, shuffle=True),\n",
    "                           verbose=verbose, n_jobs=-1)"
   ]
  },
  {
   "cell_type": "markdown",
   "metadata": {},
   "source": [
    "## Trials"
   ]
  },
  {
   "cell_type": "code",
   "execution_count": 9,
   "metadata": {},
   "outputs": [
    {
     "name": "stdout",
     "output_type": "stream",
     "text": [
      "additive_chi2  done...\n",
      "chi2  done...\n",
      "linear  done...\n",
      "rbf  done...\n",
      "laplacian  done...\n"
     ]
    },
    {
     "data": {
      "text/html": [
       "<div>\n",
       "<style scoped>\n",
       "    .dataframe tbody tr th:only-of-type {\n",
       "        vertical-align: middle;\n",
       "    }\n",
       "\n",
       "    .dataframe tbody tr th {\n",
       "        vertical-align: top;\n",
       "    }\n",
       "\n",
       "    .dataframe thead th {\n",
       "        text-align: right;\n",
       "    }\n",
       "</style>\n",
       "<table border=\"1\" class=\"dataframe\">\n",
       "  <thead>\n",
       "    <tr style=\"text-align: right;\">\n",
       "      <th></th>\n",
       "      <th>additive_chi2</th>\n",
       "      <th>chi2</th>\n",
       "      <th>linear</th>\n",
       "      <th>rbf</th>\n",
       "      <th>laplacian</th>\n",
       "    </tr>\n",
       "  </thead>\n",
       "  <tbody>\n",
       "    <tr>\n",
       "      <th>0</th>\n",
       "      <td>0.643417</td>\n",
       "      <td>0.669279</td>\n",
       "      <td>0.652038</td>\n",
       "      <td>0.633229</td>\n",
       "      <td>0.666928</td>\n",
       "    </tr>\n",
       "    <tr>\n",
       "      <th>1</th>\n",
       "      <td>0.659091</td>\n",
       "      <td>0.684169</td>\n",
       "      <td>0.637931</td>\n",
       "      <td>0.655956</td>\n",
       "      <td>0.670846</td>\n",
       "    </tr>\n",
       "    <tr>\n",
       "      <th>2</th>\n",
       "      <td>0.654389</td>\n",
       "      <td>0.680251</td>\n",
       "      <td>0.619906</td>\n",
       "      <td>0.655956</td>\n",
       "      <td>0.670063</td>\n",
       "    </tr>\n",
       "    <tr>\n",
       "      <th>3</th>\n",
       "      <td>0.639498</td>\n",
       "      <td>0.675549</td>\n",
       "      <td>0.619122</td>\n",
       "      <td>0.647335</td>\n",
       "      <td>0.666144</td>\n",
       "    </tr>\n",
       "    <tr>\n",
       "      <th>4</th>\n",
       "      <td>0.627451</td>\n",
       "      <td>0.665098</td>\n",
       "      <td>0.639216</td>\n",
       "      <td>0.643137</td>\n",
       "      <td>0.669020</td>\n",
       "    </tr>\n",
       "    <tr>\n",
       "      <th>5</th>\n",
       "      <td>0.647059</td>\n",
       "      <td>0.676863</td>\n",
       "      <td>0.641569</td>\n",
       "      <td>0.633725</td>\n",
       "      <td>0.676078</td>\n",
       "    </tr>\n",
       "    <tr>\n",
       "      <th>6</th>\n",
       "      <td>0.651765</td>\n",
       "      <td>0.688627</td>\n",
       "      <td>0.632157</td>\n",
       "      <td>0.662745</td>\n",
       "      <td>0.656471</td>\n",
       "    </tr>\n",
       "    <tr>\n",
       "      <th>7</th>\n",
       "      <td>0.655686</td>\n",
       "      <td>0.687843</td>\n",
       "      <td>0.632941</td>\n",
       "      <td>0.658824</td>\n",
       "      <td>0.658039</td>\n",
       "    </tr>\n",
       "    <tr>\n",
       "      <th>8</th>\n",
       "      <td>0.668235</td>\n",
       "      <td>0.692549</td>\n",
       "      <td>0.649412</td>\n",
       "      <td>0.655686</td>\n",
       "      <td>0.647843</td>\n",
       "    </tr>\n",
       "    <tr>\n",
       "      <th>9</th>\n",
       "      <td>0.672157</td>\n",
       "      <td>0.676078</td>\n",
       "      <td>0.640000</td>\n",
       "      <td>0.648627</td>\n",
       "      <td>0.661176</td>\n",
       "    </tr>\n",
       "  </tbody>\n",
       "</table>\n",
       "</div>"
      ],
      "text/plain": [
       "   additive_chi2      chi2    linear       rbf  laplacian\n",
       "0       0.643417  0.669279  0.652038  0.633229   0.666928\n",
       "1       0.659091  0.684169  0.637931  0.655956   0.670846\n",
       "2       0.654389  0.680251  0.619906  0.655956   0.670063\n",
       "3       0.639498  0.675549  0.619122  0.647335   0.666144\n",
       "4       0.627451  0.665098  0.639216  0.643137   0.669020\n",
       "5       0.647059  0.676863  0.641569  0.633725   0.676078\n",
       "6       0.651765  0.688627  0.632157  0.662745   0.656471\n",
       "7       0.655686  0.687843  0.632941  0.658824   0.658039\n",
       "8       0.668235  0.692549  0.649412  0.655686   0.647843\n",
       "9       0.672157  0.676078  0.640000  0.648627   0.661176"
      ]
     },
     "execution_count": 9,
     "metadata": {},
     "output_type": "execute_result"
    }
   ],
   "source": [
    "#np.set_printoptions(precision=2)\n",
    "sgd = SGDClassifier(loss='log',\n",
    "                    penalty='l1',\n",
    "                    #early_stopping=True,\n",
    "                    #class_weight='balanced',\n",
    "                    n_jobs=-1, warm_start=False)\n",
    "kernels_to_try = ('additive_chi2', 'chi2', 'linear', 'rbf', 'laplacian')\n",
    "scoring = 'recall_weighted'\n",
    "folds=10\n",
    "df = {}\n",
    "for kernel in kernels_to_try:\n",
    "    scores = train(sgd,\n",
    "                   x, y,\n",
    "                   folds=folds,\n",
    "                   kernel=kernel,\n",
    "                   scoring=scoring)\n",
    "    df[kernel] = scores\n",
    "    print(kernel, ' done...')\n",
    "f_result = f_oneway(*df.values())\n",
    "df = pd.DataFrame(df)\n",
    "df"
   ]
  },
  {
   "cell_type": "code",
   "execution_count": 10,
   "metadata": {},
   "outputs": [
    {
     "data": {
      "text/plain": [
       "additive_chi2    0.651875\n",
       "chi2             0.679631\n",
       "linear           0.636429\n",
       "rbf              0.649522\n",
       "laplacian        0.664261\n",
       "dtype: float64"
      ]
     },
     "execution_count": 10,
     "metadata": {},
     "output_type": "execute_result"
    }
   ],
   "source": [
    "df.mean()"
   ]
  },
  {
   "cell_type": "code",
   "execution_count": 11,
   "metadata": {},
   "outputs": [
    {
     "data": {
      "text/plain": [
       "F_onewayResult(statistic=24.401218164596045, pvalue=8.792273486175073e-11)"
      ]
     },
     "execution_count": 11,
     "metadata": {},
     "output_type": "execute_result"
    }
   ],
   "source": [
    "f_result"
   ]
  },
  {
   "cell_type": "code",
   "execution_count": 12,
   "metadata": {},
   "outputs": [
    {
     "data": {
      "image/png": "[encoded data removed]",
      "text/plain": [
       "<Figure size 432x288 with 1 Axes>"
      ]
     },
     "metadata": {
      "needs_background": "light"
     },
     "output_type": "display_data"
    }
   ],
   "source": [
    "ax = df.plot(use_index=True, xticks=range(folds))\n",
    "ax.hlines(df.mean(),\n",
    "          xmin=0, xmax=folds-1,\n",
    "          linestyles='dashed', alpha=0.8, colors=['C'+str(i) for i in range(5)])\n",
    "ax.legend(loc='center left', bbox_to_anchor=(1, 0.5));\n",
    "plt.xlabel('Split');\n",
    "plt.ylabel('Weighted Recall');"
   ]
  },
  {
   "cell_type": "markdown",
   "metadata": {},
   "source": [
    "$\\chi^2$ does best on average across several runs, so we will use it as our real kernel. We will also calculate the true feature map instead of approximating it using the Nystroem method."
   ]
  },
  {
   "cell_type": "code",
   "execution_count": 48,
   "metadata": {},
   "outputs": [],
   "source": [
    "param_grid = {'loss': ('hinge', 'log'),\n",
    "              'penalty': ('l2', 'l1'),\n",
    "              #'learning_rate': ('optimal', 'invscaling', 'adaptive'),\n",
    "              #'power_t': np.logspace(-3, -1, num=10),\n",
    "              'class_weight': ('balanced', None)\n",
    "             }"
   ]
  },
  {
   "cell_type": "code",
   "execution_count": 51,
   "metadata": {},
   "outputs": [
    {
     "name": "stdout",
     "output_type": "stream",
     "text": [
      "Fitting 10 folds for each of 8 candidates, totalling 80 fits\n"
     ]
    },
    {
     "name": "stderr",
     "output_type": "stream",
     "text": [
      "[Parallel(n_jobs=-1)]: Using backend LokyBackend with 8 concurrent workers.\n",
      "[Parallel(n_jobs=-1)]: Done  16 tasks      | elapsed:    7.2s\n",
      "[Parallel(n_jobs=-1)]: Done  80 out of  80 | elapsed:   29.9s finished\n"
     ]
    },
    {
     "data": {
      "text/plain": [
       "GridSearchCV(cv=10, estimator=SGDClassifier(average=True), n_jobs=-1,\n",
       "             param_grid={'class_weight': ('balanced', None),\n",
       "                         'loss': ('hinge', 'log'), 'penalty': ('l2', 'l1')},\n",
       "             scoring='recall_weighted', verbose=3)"
      ]
     },
     "execution_count": 51,
     "metadata": {},
     "output_type": "execute_result"
    }
   ],
   "source": [
    "fm = Nystroem(kernel='chi2', n_components=300).fit_transform(x, y)\n",
    "\n",
    "grid = GridSearchCV(estimator=SGDClassifier(average=True),\n",
    "                    cv=10, scoring='recall_weighted',\n",
    "                    param_grid=param_grid,\n",
    "                    verbose=3, n_jobs=-1)\n",
    "grid.fit(fm, y)"
   ]
  },
  {
   "cell_type": "code",
   "execution_count": 52,
   "metadata": {},
   "outputs": [
    {
     "data": {
      "text/html": [
       "<div>\n",
       "<style scoped>\n",
       "    .dataframe tbody tr th:only-of-type {\n",
       "        vertical-align: middle;\n",
       "    }\n",
       "\n",
       "    .dataframe tbody tr th {\n",
       "        vertical-align: top;\n",
       "    }\n",
       "\n",
       "    .dataframe thead th {\n",
       "        text-align: right;\n",
       "    }\n",
       "</style>\n",
       "<table border=\"1\" class=\"dataframe\">\n",
       "  <thead>\n",
       "    <tr style=\"text-align: right;\">\n",
       "      <th></th>\n",
       "      <th>mean_fit_time</th>\n",
       "      <th>std_fit_time</th>\n",
       "      <th>mean_score_time</th>\n",
       "      <th>std_score_time</th>\n",
       "      <th>param_class_weight</th>\n",
       "      <th>param_loss</th>\n",
       "      <th>param_penalty</th>\n",
       "      <th>params</th>\n",
       "      <th>split0_test_score</th>\n",
       "      <th>split1_test_score</th>\n",
       "      <th>...</th>\n",
       "      <th>split3_test_score</th>\n",
       "      <th>split4_test_score</th>\n",
       "      <th>split5_test_score</th>\n",
       "      <th>split6_test_score</th>\n",
       "      <th>split7_test_score</th>\n",
       "      <th>split8_test_score</th>\n",
       "      <th>split9_test_score</th>\n",
       "      <th>mean_test_score</th>\n",
       "      <th>std_test_score</th>\n",
       "      <th>rank_test_score</th>\n",
       "    </tr>\n",
       "  </thead>\n",
       "  <tbody>\n",
       "    <tr>\n",
       "      <th>6</th>\n",
       "      <td>1.768799</td>\n",
       "      <td>0.075373</td>\n",
       "      <td>0.003201</td>\n",
       "      <td>0.000400</td>\n",
       "      <td>None</td>\n",
       "      <td>log</td>\n",
       "      <td>l2</td>\n",
       "      <td>{'class_weight': None, 'loss': 'log', 'penalty...</td>\n",
       "      <td>0.623041</td>\n",
       "      <td>0.737461</td>\n",
       "      <td>...</td>\n",
       "      <td>0.578370</td>\n",
       "      <td>0.597647</td>\n",
       "      <td>0.609412</td>\n",
       "      <td>0.626667</td>\n",
       "      <td>0.650196</td>\n",
       "      <td>0.590588</td>\n",
       "      <td>0.600784</td>\n",
       "      <td>0.627639</td>\n",
       "      <td>0.044205</td>\n",
       "      <td>1</td>\n",
       "    </tr>\n",
       "    <tr>\n",
       "      <th>4</th>\n",
       "      <td>2.300399</td>\n",
       "      <td>0.131826</td>\n",
       "      <td>0.003600</td>\n",
       "      <td>0.000663</td>\n",
       "      <td>None</td>\n",
       "      <td>hinge</td>\n",
       "      <td>l2</td>\n",
       "      <td>{'class_weight': None, 'loss': 'hinge', 'penal...</td>\n",
       "      <td>0.631661</td>\n",
       "      <td>0.719436</td>\n",
       "      <td>...</td>\n",
       "      <td>0.588558</td>\n",
       "      <td>0.588235</td>\n",
       "      <td>0.610196</td>\n",
       "      <td>0.631373</td>\n",
       "      <td>0.636863</td>\n",
       "      <td>0.583529</td>\n",
       "      <td>0.605490</td>\n",
       "      <td>0.625286</td>\n",
       "      <td>0.038987</td>\n",
       "      <td>2</td>\n",
       "    </tr>\n",
       "    <tr>\n",
       "      <th>2</th>\n",
       "      <td>2.165200</td>\n",
       "      <td>0.184479</td>\n",
       "      <td>0.003201</td>\n",
       "      <td>0.000400</td>\n",
       "      <td>balanced</td>\n",
       "      <td>log</td>\n",
       "      <td>l2</td>\n",
       "      <td>{'class_weight': 'balanced', 'loss': 'log', 'p...</td>\n",
       "      <td>0.656740</td>\n",
       "      <td>0.774295</td>\n",
       "      <td>...</td>\n",
       "      <td>0.624608</td>\n",
       "      <td>0.568627</td>\n",
       "      <td>0.593725</td>\n",
       "      <td>0.572549</td>\n",
       "      <td>0.625882</td>\n",
       "      <td>0.560000</td>\n",
       "      <td>0.565490</td>\n",
       "      <td>0.622060</td>\n",
       "      <td>0.063848</td>\n",
       "      <td>3</td>\n",
       "    </tr>\n",
       "    <tr>\n",
       "      <th>0</th>\n",
       "      <td>2.871202</td>\n",
       "      <td>0.313236</td>\n",
       "      <td>0.003700</td>\n",
       "      <td>0.000641</td>\n",
       "      <td>balanced</td>\n",
       "      <td>hinge</td>\n",
       "      <td>l2</td>\n",
       "      <td>{'class_weight': 'balanced', 'loss': 'hinge', ...</td>\n",
       "      <td>0.661442</td>\n",
       "      <td>0.769592</td>\n",
       "      <td>...</td>\n",
       "      <td>0.637147</td>\n",
       "      <td>0.563137</td>\n",
       "      <td>0.594510</td>\n",
       "      <td>0.574118</td>\n",
       "      <td>0.626667</td>\n",
       "      <td>0.549804</td>\n",
       "      <td>0.565490</td>\n",
       "      <td>0.621667</td>\n",
       "      <td>0.064259</td>\n",
       "      <td>4</td>\n",
       "    </tr>\n",
       "    <tr>\n",
       "      <th>1</th>\n",
       "      <td>3.887799</td>\n",
       "      <td>0.248193</td>\n",
       "      <td>0.003901</td>\n",
       "      <td>0.001513</td>\n",
       "      <td>balanced</td>\n",
       "      <td>hinge</td>\n",
       "      <td>l1</td>\n",
       "      <td>{'class_weight': 'balanced', 'loss': 'hinge', ...</td>\n",
       "      <td>0.315831</td>\n",
       "      <td>0.188088</td>\n",
       "      <td>...</td>\n",
       "      <td>0.342476</td>\n",
       "      <td>0.176471</td>\n",
       "      <td>0.260392</td>\n",
       "      <td>0.231373</td>\n",
       "      <td>0.198431</td>\n",
       "      <td>0.047059</td>\n",
       "      <td>0.196863</td>\n",
       "      <td>0.215604</td>\n",
       "      <td>0.077468</td>\n",
       "      <td>5</td>\n",
       "    </tr>\n",
       "    <tr>\n",
       "      <th>7</th>\n",
       "      <td>2.715232</td>\n",
       "      <td>0.383832</td>\n",
       "      <td>0.002700</td>\n",
       "      <td>0.000900</td>\n",
       "      <td>None</td>\n",
       "      <td>log</td>\n",
       "      <td>l1</td>\n",
       "      <td>{'class_weight': None, 'loss': 'log', 'penalty...</td>\n",
       "      <td>0.251567</td>\n",
       "      <td>0.212382</td>\n",
       "      <td>...</td>\n",
       "      <td>0.133229</td>\n",
       "      <td>0.221961</td>\n",
       "      <td>0.178039</td>\n",
       "      <td>0.065882</td>\n",
       "      <td>0.108235</td>\n",
       "      <td>0.152941</td>\n",
       "      <td>0.218824</td>\n",
       "      <td>0.177504</td>\n",
       "      <td>0.057597</td>\n",
       "      <td>6</td>\n",
       "    </tr>\n",
       "    <tr>\n",
       "      <th>5</th>\n",
       "      <td>3.294600</td>\n",
       "      <td>0.149956</td>\n",
       "      <td>0.003801</td>\n",
       "      <td>0.001166</td>\n",
       "      <td>None</td>\n",
       "      <td>hinge</td>\n",
       "      <td>l1</td>\n",
       "      <td>{'class_weight': None, 'loss': 'hinge', 'penal...</td>\n",
       "      <td>0.148119</td>\n",
       "      <td>0.084639</td>\n",
       "      <td>...</td>\n",
       "      <td>0.227273</td>\n",
       "      <td>0.190588</td>\n",
       "      <td>0.322353</td>\n",
       "      <td>0.194510</td>\n",
       "      <td>0.137255</td>\n",
       "      <td>0.053333</td>\n",
       "      <td>0.114510</td>\n",
       "      <td>0.172493</td>\n",
       "      <td>0.077307</td>\n",
       "      <td>7</td>\n",
       "    </tr>\n",
       "    <tr>\n",
       "      <th>3</th>\n",
       "      <td>3.950401</td>\n",
       "      <td>0.352128</td>\n",
       "      <td>0.004201</td>\n",
       "      <td>0.002785</td>\n",
       "      <td>balanced</td>\n",
       "      <td>log</td>\n",
       "      <td>l1</td>\n",
       "      <td>{'class_weight': 'balanced', 'loss': 'log', 'p...</td>\n",
       "      <td>0.271944</td>\n",
       "      <td>0.242163</td>\n",
       "      <td>...</td>\n",
       "      <td>0.098746</td>\n",
       "      <td>0.107451</td>\n",
       "      <td>0.159216</td>\n",
       "      <td>0.067451</td>\n",
       "      <td>0.102745</td>\n",
       "      <td>0.067451</td>\n",
       "      <td>0.176471</td>\n",
       "      <td>0.148329</td>\n",
       "      <td>0.067819</td>\n",
       "      <td>8</td>\n",
       "    </tr>\n",
       "  </tbody>\n",
       "</table>\n",
       "<p>8 rows × 21 columns</p>\n",
       "</div>"
      ],
      "text/plain": [
       "   mean_fit_time  std_fit_time  mean_score_time  std_score_time  \\\n",
       "6       1.768799      0.075373         0.003201        0.000400   \n",
       "4       2.300399      0.131826         0.003600        0.000663   \n",
       "2       2.165200      0.184479         0.003201        0.000400   \n",
       "0       2.871202      0.313236         0.003700        0.000641   \n",
       "1       3.887799      0.248193         0.003901        0.001513   \n",
       "7       2.715232      0.383832         0.002700        0.000900   \n",
       "5       3.294600      0.149956         0.003801        0.001166   \n",
       "3       3.950401      0.352128         0.004201        0.002785   \n",
       "\n",
       "  param_class_weight param_loss param_penalty  \\\n",
       "6               None        log            l2   \n",
       "4               None      hinge            l2   \n",
       "2           balanced        log            l2   \n",
       "0           balanced      hinge            l2   \n",
       "1           balanced      hinge            l1   \n",
       "7               None        log            l1   \n",
       "5               None      hinge            l1   \n",
       "3           balanced        log            l1   \n",
       "\n",
       "                                              params  split0_test_score  \\\n",
       "6  {'class_weight': None, 'loss': 'log', 'penalty...           0.623041   \n",
       "4  {'class_weight': None, 'loss': 'hinge', 'penal...           0.631661   \n",
       "2  {'class_weight': 'balanced', 'loss': 'log', 'p...           0.656740   \n",
       "0  {'class_weight': 'balanced', 'loss': 'hinge', ...           0.661442   \n",
       "1  {'class_weight': 'balanced', 'loss': 'hinge', ...           0.315831   \n",
       "7  {'class_weight': None, 'loss': 'log', 'penalty...           0.251567   \n",
       "5  {'class_weight': None, 'loss': 'hinge', 'penal...           0.148119   \n",
       "3  {'class_weight': 'balanced', 'loss': 'log', 'p...           0.271944   \n",
       "\n",
       "   split1_test_score  ...  split3_test_score  split4_test_score  \\\n",
       "6           0.737461  ...           0.578370           0.597647   \n",
       "4           0.719436  ...           0.588558           0.588235   \n",
       "2           0.774295  ...           0.624608           0.568627   \n",
       "0           0.769592  ...           0.637147           0.563137   \n",
       "1           0.188088  ...           0.342476           0.176471   \n",
       "7           0.212382  ...           0.133229           0.221961   \n",
       "5           0.084639  ...           0.227273           0.190588   \n",
       "3           0.242163  ...           0.098746           0.107451   \n",
       "\n",
       "   split5_test_score  split6_test_score  split7_test_score  split8_test_score  \\\n",
       "6           0.609412           0.626667           0.650196           0.590588   \n",
       "4           0.610196           0.631373           0.636863           0.583529   \n",
       "2           0.593725           0.572549           0.625882           0.560000   \n",
       "0           0.594510           0.574118           0.626667           0.549804   \n",
       "1           0.260392           0.231373           0.198431           0.047059   \n",
       "7           0.178039           0.065882           0.108235           0.152941   \n",
       "5           0.322353           0.194510           0.137255           0.053333   \n",
       "3           0.159216           0.067451           0.102745           0.067451   \n",
       "\n",
       "   split9_test_score  mean_test_score  std_test_score  rank_test_score  \n",
       "6           0.600784         0.627639        0.044205                1  \n",
       "4           0.605490         0.625286        0.038987                2  \n",
       "2           0.565490         0.622060        0.063848                3  \n",
       "0           0.565490         0.621667        0.064259                4  \n",
       "1           0.196863         0.215604        0.077468                5  \n",
       "7           0.218824         0.177504        0.057597                6  \n",
       "5           0.114510         0.172493        0.077307                7  \n",
       "3           0.176471         0.148329        0.067819                8  \n",
       "\n",
       "[8 rows x 21 columns]"
      ]
     },
     "execution_count": 52,
     "metadata": {},
     "output_type": "execute_result"
    }
   ],
   "source": [
    "grid_df = pd.DataFrame(grid.cv_results_).sort_values('rank_test_score')\n",
    "grid_df"
   ]
  },
  {
   "cell_type": "raw",
   "metadata": {},
   "source": [
    "sgd.fit(chi2_approx, y)"
   ]
  },
  {
   "cell_type": "raw",
   "metadata": {},
   "source": [
    "y_pred, y_proba = sgd.predict(x_test), sgd.predict_proba(x_test)"
   ]
  },
  {
   "cell_type": "raw",
   "metadata": {},
   "source": [
    "cm2 = pd.DataFrame(confusion_matrix(y_test, y_pred), columns=['real', 'fake', 'opinion', 'polarized', 'satire', 'promotional', 'correction'], index=['real', 'fake', 'opinion', 'polarized', 'satire', 'promotional', 'correction'])\n",
    "recall_score(y_test, y_pred, average='weighted')"
   ]
  }
 ],
 "metadata": {
  "kernelspec": {
   "display_name": "Python 3",
   "language": "python",
   "name": "python3"
  },
  "language_info": {
   "codemirror_mode": {
    "name": "ipython",
    "version": 3
   },
   "file_extension": ".py",
   "mimetype": "text/x-python",
   "name": "python",
   "nbconvert_exporter": "python",
   "pygments_lexer": "ipython3",
   "version": "3.7.6"
  }
 },
 "nbformat": 4,
 "nbformat_minor": 4
}
