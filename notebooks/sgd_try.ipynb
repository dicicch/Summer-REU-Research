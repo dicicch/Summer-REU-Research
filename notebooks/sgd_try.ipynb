{
 "cells": [
  {
   "cell_type": "code",
   "execution_count": 1,
   "metadata": {},
   "outputs": [],
   "source": [
    "import numpy as np\n",
    "import pandas as pd\n",
    "\n",
    "from sklearn.model_selection import cross_val_score, RandomizedSearchCV, KFold\n",
    "from sklearn.metrics.pairwise import kernel_metrics\n",
    "from sklearn.kernel_approximation import Nystroem\n",
    "from sklearn.linear_model import SGDClassifier"
   ]
  },
  {
   "cell_type": "markdown",
   "metadata": {},
   "source": [
    "`sklearn.metrics.pairwise.kernel_metrics()` to list available kernels"
   ]
  },
  {
   "cell_type": "code",
   "execution_count": 2,
   "metadata": {},
   "outputs": [
    {
     "data": {
      "text/plain": [
       "{'additive_chi2': <function sklearn.metrics.pairwise.additive_chi2_kernel(X, Y=None)>,\n",
       " 'chi2': <function sklearn.metrics.pairwise.chi2_kernel(X, Y=None, gamma=1.0)>,\n",
       " 'linear': <function sklearn.metrics.pairwise.linear_kernel(X, Y=None, dense_output=True)>,\n",
       " 'polynomial': <function sklearn.metrics.pairwise.polynomial_kernel(X, Y=None, degree=3, gamma=None, coef0=1)>,\n",
       " 'poly': <function sklearn.metrics.pairwise.polynomial_kernel(X, Y=None, degree=3, gamma=None, coef0=1)>,\n",
       " 'rbf': <function sklearn.metrics.pairwise.rbf_kernel(X, Y=None, gamma=None)>,\n",
       " 'laplacian': <function sklearn.metrics.pairwise.laplacian_kernel(X, Y=None, gamma=None)>,\n",
       " 'sigmoid': <function sklearn.metrics.pairwise.sigmoid_kernel(X, Y=None, gamma=None, coef0=1)>,\n",
       " 'cosine': <function sklearn.metrics.pairwise.cosine_similarity(X, Y=None, dense_output=True)>}"
      ]
     },
     "execution_count": 2,
     "metadata": {},
     "output_type": "execute_result"
    }
   ],
   "source": [
    "kernel_metrics()"
   ]
  },
  {
   "cell_type": "markdown",
   "metadata": {},
   "source": [
    "Each of these are interesting in their own ways, but the most applicable to our case will be `additive_chi2` and `chi2`, `linear`, `rbf` and `laplacian`. We will do trials of each, but `rbf` will be approximated using the `sklearn.kernel_approximation.Nystroem` method since it is intractable with so many samples especially if we need to enable probability prediction."
   ]
  },
  {
   "cell_type": "markdown",
   "metadata": {},
   "source": [
    "## Data Read"
   ]
  },
  {
   "cell_type": "code",
   "execution_count": 3,
   "metadata": {},
   "outputs": [],
   "source": [
    "d_full = pd.read_csv('../data/d_full.csv')\n",
    "\n",
    "x, y = *(d_full.drop('label', axis=1),\n",
    "         d_full['label']),\n",
    "\n",
    "x, y = map(lambda j: j.to_numpy(), (x,y))"
   ]
  },
  {
   "cell_type": "markdown",
   "metadata": {},
   "source": [
    "## SGD Initialization"
   ]
  },
  {
   "cell_type": "code",
   "execution_count": 4,
   "metadata": {},
   "outputs": [],
   "source": [
    "sgd = SGDClassifier(loss='log',\n",
    "                    penalty='l1',\n",
    "                    #early_stopping=True,\n",
    "                    class_weight='balanced',\n",
    "                    n_jobs=-1)"
   ]
  },
  {
   "cell_type": "markdown",
   "metadata": {},
   "source": [
    "## Example Nystroem Transform"
   ]
  },
  {
   "cell_type": "code",
   "execution_count": 5,
   "metadata": {},
   "outputs": [
    {
     "data": {
      "text/plain": [
       "array([[0.00975688, 0.03916245, 0.18957861, ..., 0.01379283, 0.05415589,\n",
       "        0.24549443],\n",
       "       [0.0053321 , 0.04324769, 0.1575751 , ..., 0.02392627, 0.03166662,\n",
       "        0.2417667 ],\n",
       "       [0.0093064 , 0.04698138, 0.13397684, ..., 0.01111804, 0.06420053,\n",
       "        0.22089316],\n",
       "       ...,\n",
       "       [0.05752698, 0.01542689, 0.24630702, ..., 0.00609525, 0.03573549,\n",
       "        0.06505543],\n",
       "       [0.07907208, 0.01581673, 0.26961472, ..., 0.00760727, 0.04351479,\n",
       "        0.07217415],\n",
       "       [0.00566504, 0.0174066 , 0.10650837, ..., 0.0110558 , 0.11778056,\n",
       "        0.20424286]])"
      ]
     },
     "execution_count": 5,
     "metadata": {},
     "output_type": "execute_result"
    }
   ],
   "source": [
    "chi2_approx = Nystroem(kernel='chi2').fit_transform(x, y)\n",
    "chi2_approx"
   ]
  },
  {
   "cell_type": "code",
   "execution_count": 6,
   "metadata": {},
   "outputs": [
    {
     "data": {
      "text/plain": [
       "array([0.70678165, 0.66091729, 0.60133281, 0.64014112, 0.58392157])"
      ]
     },
     "execution_count": 6,
     "metadata": {},
     "output_type": "execute_result"
    }
   ],
   "source": [
    "scores = cross_val_score(sgd, chi2_approx, y, scoring='precision_micro', cv=5)\n",
    "scores"
   ]
  },
  {
   "cell_type": "code",
   "execution_count": 7,
   "metadata": {},
   "outputs": [
    {
     "data": {
      "text/plain": [
       "array([0.6750294 , 0.65895727, 0.59349275, 0.63582909, 0.63333333])"
      ]
     },
     "execution_count": 7,
     "metadata": {},
     "output_type": "execute_result"
    }
   ],
   "source": [
    "scores = cross_val_score(sgd, chi2_approx, y, scoring='recall_micro', cv=5)\n",
    "scores"
   ]
  },
  {
   "cell_type": "code",
   "execution_count": 8,
   "metadata": {},
   "outputs": [],
   "source": [
    "def train(clf, x, y, kernel='rbf', scoring=None, verbose=0, **kwargs):\n",
    "    approx = Nystroem(kernel=kernel, kernel_params=dict(**kwargs)).fit_transform(x, y)\n",
    "    return cross_val_score(clf, approx, y, scoring=scoring, cv=KFold(shuffle=True), verbose=verbose, n_jobs=-1)"
   ]
  },
  {
   "cell_type": "markdown",
   "metadata": {},
   "source": [
    "## Trials"
   ]
  },
  {
   "cell_type": "code",
   "execution_count": 16,
   "metadata": {},
   "outputs": [
    {
     "name": "stdout",
     "output_type": "stream",
     "text": [
      "additive_chi2 : [0.66 0.69 0.7  0.66 0.68], Mean: 0.6764937702246716\n",
      "chi2          : [0.67 0.72 0.71 0.7  0.68], Mean: 0.6978191097685644\n",
      "linear        : [0.66 0.66 0.65 0.64 0.66], Mean: 0.6532075848763653\n",
      "rbf           : [0.64 0.64 0.66 0.65 0.64], Mean: 0.6445820093619572\n",
      "laplacian     : [0.65 0.66 0.67 0.66 0.65], Mean: 0.6597141912821577\n"
     ]
    }
   ],
   "source": [
    "np.set_printoptions(precision=2)\n",
    "kernels_to_try = ('additive_chi2', 'chi2', 'linear', 'rbf', 'laplacian')\n",
    "scoring = 'recall_weighted'\n",
    "for kernel in kernels_to_try:\n",
    "    sgd = SGDClassifier(loss='log',\n",
    "                    penalty='l1',\n",
    "                    #early_stopping=True,\n",
    "                    class_weight='balanced',\n",
    "                    n_jobs=-1)\n",
    "    scores = train(sgd, x, y, kernel=kernel, scoring=scoring)\n",
    "    print(f\"{kernel.ljust(len(max(kernels_to_try, key=len))+1)!s}: {scores!s}, Mean: {np.mean(scores)!s}\")"
   ]
  },
  {
   "cell_type": "raw",
   "metadata": {},
   "source": [
    "sgd.fit(chi2_approx, y)"
   ]
  },
  {
   "cell_type": "raw",
   "metadata": {},
   "source": [
    "y_pred, y_proba = sgd.predict(x_test), sgd.predict_proba(x_test)"
   ]
  },
  {
   "cell_type": "raw",
   "metadata": {},
   "source": [
    "cm2 = pd.DataFrame(confusion_matrix(y_test, y_pred), columns=['real', 'fake', 'opinion', 'polarized', 'satire', 'promotional', 'correction'], index=['real', 'fake', 'opinion', 'polarized', 'satire', 'promotional', 'correction'])\n",
    "recall_score(y_test, y_pred, average='weighted')"
   ]
  }
 ],
 "metadata": {
  "kernelspec": {
   "display_name": "Python 3",
   "language": "python",
   "name": "python3"
  },
  "language_info": {
   "codemirror_mode": {
    "name": "ipython",
    "version": 3
   },
   "file_extension": ".py",
   "mimetype": "text/x-python",
   "name": "python",
   "nbconvert_exporter": "python",
   "pygments_lexer": "ipython3",
   "version": "3.7.6"
  }
 },
 "nbformat": 4,
 "nbformat_minor": 4
}
