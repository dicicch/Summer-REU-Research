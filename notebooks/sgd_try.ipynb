{
 "cells": [
  {
   "cell_type": "code",
   "execution_count": 1,
   "metadata": {},
   "outputs": [],
   "source": [
    "import numpy as np\n",
    "import pandas as pd\n",
    "\n",
    "import matplotlib.pyplot as plt\n",
    "\n",
    "from scipy.stats import f_oneway, uniform\n",
    "\n",
    "from sklearn.model_selection import cross_val_score, GridSearchCV, RandomizedSearchCV, StratifiedKFold\n",
    "from sklearn.preprocessing import MinMaxScaler\n",
    "from sklearn.metrics.pairwise import kernel_metrics, chi2_kernel\n",
    "from sklearn.kernel_approximation import Nystroem\n",
    "from sklearn.linear_model import SGDClassifier\n",
    "from sklearn.pipeline import Pipeline"
   ]
  },
  {
   "cell_type": "markdown",
   "metadata": {},
   "source": [
    "`sklearn.metrics.pairwise.kernel_metrics()` to list available kernels"
   ]
  },
  {
   "cell_type": "code",
   "execution_count": 2,
   "metadata": {},
   "outputs": [
    {
     "data": {
      "text/plain": [
       "{'additive_chi2': <function sklearn.metrics.pairwise.additive_chi2_kernel(X, Y=None)>,\n",
       " 'chi2': <function sklearn.metrics.pairwise.chi2_kernel(X, Y=None, gamma=1.0)>,\n",
       " 'linear': <function sklearn.metrics.pairwise.linear_kernel(X, Y=None, dense_output=True)>,\n",
       " 'polynomial': <function sklearn.metrics.pairwise.polynomial_kernel(X, Y=None, degree=3, gamma=None, coef0=1)>,\n",
       " 'poly': <function sklearn.metrics.pairwise.polynomial_kernel(X, Y=None, degree=3, gamma=None, coef0=1)>,\n",
       " 'rbf': <function sklearn.metrics.pairwise.rbf_kernel(X, Y=None, gamma=None)>,\n",
       " 'laplacian': <function sklearn.metrics.pairwise.laplacian_kernel(X, Y=None, gamma=None)>,\n",
       " 'sigmoid': <function sklearn.metrics.pairwise.sigmoid_kernel(X, Y=None, gamma=None, coef0=1)>,\n",
       " 'cosine': <function sklearn.metrics.pairwise.cosine_similarity(X, Y=None, dense_output=True)>}"
      ]
     },
     "execution_count": 2,
     "metadata": {},
     "output_type": "execute_result"
    }
   ],
   "source": [
    "kernel_metrics()"
   ]
  },
  {
   "cell_type": "markdown",
   "metadata": {},
   "source": [
    "Each of these are interesting in their own ways, but the most applicable to our case will be `additive_chi2` and `chi2`, `linear`, `rbf` and `laplacian`. We will do trials of each, but `rbf` will be approximated using the `sklearn.kernel_approximation.Nystroem` method since it is intractable with so many samples especially if we need to enable probability prediction."
   ]
  },
  {
   "cell_type": "markdown",
   "metadata": {},
   "source": [
    "## Data Read"
   ]
  },
  {
   "cell_type": "code",
   "execution_count": 3,
   "metadata": {},
   "outputs": [],
   "source": [
    "#d_full = pd.read_csv('../data/d_full.csv')\n",
    "\n",
    "d_sub = pd.read_csv('../data/d_sub.csv')\n",
    "\n",
    "x, y = *(d_sub.drop('label', axis=1),\n",
    "         d_sub['label']),\n",
    "\n",
    "x, y = map(lambda j: j.to_numpy(), (x,y))"
   ]
  },
  {
   "cell_type": "markdown",
   "metadata": {},
   "source": [
    "## SGD Initialization"
   ]
  },
  {
   "cell_type": "code",
   "execution_count": 4,
   "metadata": {},
   "outputs": [],
   "source": [
    "sgd = SGDClassifier(loss='log',\n",
    "                    penalty='l1',\n",
    "                    #early_stopping=True,\n",
    "                    class_weight='balanced',\n",
    "                    n_jobs=-1)"
   ]
  },
  {
   "cell_type": "markdown",
   "metadata": {},
   "source": [
    "## Example Nystroem Approximation"
   ]
  },
  {
   "cell_type": "code",
   "execution_count": 5,
   "metadata": {},
   "outputs": [
    {
     "data": {
      "text/plain": [
       "array([[0.08845568, 0.07216576, 0.08726705, ..., 0.11692979, 0.11734943,\n",
       "        0.11644536],\n",
       "       [0.08695516, 0.07559107, 0.08748049, ..., 0.11760009, 0.11674162,\n",
       "        0.11705415],\n",
       "       [0.08983877, 0.07112498, 0.08979463, ..., 0.11457186, 0.11790346,\n",
       "        0.11724058],\n",
       "       ...,\n",
       "       [0.1151198 , 0.07187098, 0.07634676, ..., 0.16599191, 0.10283782,\n",
       "        0.10773759],\n",
       "       [0.11613657, 0.07057447, 0.07626907, ..., 0.1628356 , 0.10380283,\n",
       "        0.10759665],\n",
       "       [0.08322453, 0.07277476, 0.08423869, ..., 0.11379849, 0.11590459,\n",
       "        0.11357438]])"
      ]
     },
     "execution_count": 5,
     "metadata": {},
     "output_type": "execute_result"
    }
   ],
   "source": [
    "chi2_approx = Nystroem(kernel='rbf').fit_transform(x, y)\n",
    "chi2_approx"
   ]
  },
  {
   "cell_type": "code",
   "execution_count": 6,
   "metadata": {},
   "outputs": [
    {
     "data": {
      "text/plain": [
       "array([0.68208546, 0.59662877, 0.57428459, 0.60995688, 0.59607843])"
      ]
     },
     "execution_count": 6,
     "metadata": {},
     "output_type": "execute_result"
    }
   ],
   "source": [
    "scores = cross_val_score(sgd, chi2_approx, y, scoring='precision_micro', cv=5)\n",
    "scores"
   ]
  },
  {
   "cell_type": "code",
   "execution_count": 7,
   "metadata": {},
   "outputs": [
    {
     "data": {
      "text/plain": [
       "array([0.70952568, 0.5876127 , 0.58604469, 0.625245  , 0.56823529])"
      ]
     },
     "execution_count": 7,
     "metadata": {},
     "output_type": "execute_result"
    }
   ],
   "source": [
    "scores = cross_val_score(sgd, chi2_approx, y, scoring='recall_micro', cv=5)\n",
    "scores"
   ]
  },
  {
   "cell_type": "code",
   "execution_count": 8,
   "metadata": {},
   "outputs": [],
   "source": [
    "def train(clf, x, y, kernel='rbf', scoring=None, folds=5, verbose=0, **kwargs):\n",
    "    approx = Nystroem(kernel=kernel, kernel_params=dict(**kwargs)).fit_transform(x, y)\n",
    "    return cross_val_score(clf,\n",
    "                           approx, y,\n",
    "                           scoring=scoring,\n",
    "                           cv=StratifiedKFold(n_splits=folds, shuffle=True),\n",
    "                           verbose=verbose, n_jobs=-1)"
   ]
  },
  {
   "cell_type": "markdown",
   "metadata": {},
   "source": [
    "## Trials"
   ]
  },
  {
   "cell_type": "code",
   "execution_count": 9,
   "metadata": {},
   "outputs": [
    {
     "name": "stdout",
     "output_type": "stream",
     "text": [
      "additive_chi2  done...\n",
      "chi2  done...\n",
      "linear  done...\n",
      "rbf  done...\n",
      "laplacian  done...\n"
     ]
    },
    {
     "data": {
      "text/html": [
       "<div>\n",
       "<style scoped>\n",
       "    .dataframe tbody tr th:only-of-type {\n",
       "        vertical-align: middle;\n",
       "    }\n",
       "\n",
       "    .dataframe tbody tr th {\n",
       "        vertical-align: top;\n",
       "    }\n",
       "\n",
       "    .dataframe thead th {\n",
       "        text-align: right;\n",
       "    }\n",
       "</style>\n",
       "<table border=\"1\" class=\"dataframe\">\n",
       "  <thead>\n",
       "    <tr style=\"text-align: right;\">\n",
       "      <th></th>\n",
       "      <th>additive_chi2</th>\n",
       "      <th>chi2</th>\n",
       "      <th>linear</th>\n",
       "      <th>rbf</th>\n",
       "      <th>laplacian</th>\n",
       "    </tr>\n",
       "  </thead>\n",
       "  <tbody>\n",
       "    <tr>\n",
       "      <th>0</th>\n",
       "      <td>0.656740</td>\n",
       "      <td>0.670063</td>\n",
       "      <td>0.637147</td>\n",
       "      <td>0.643417</td>\n",
       "      <td>0.644984</td>\n",
       "    </tr>\n",
       "    <tr>\n",
       "      <th>1</th>\n",
       "      <td>0.647335</td>\n",
       "      <td>0.673197</td>\n",
       "      <td>0.642633</td>\n",
       "      <td>0.623824</td>\n",
       "      <td>0.646552</td>\n",
       "    </tr>\n",
       "    <tr>\n",
       "      <th>2</th>\n",
       "      <td>0.659091</td>\n",
       "      <td>0.661442</td>\n",
       "      <td>0.642633</td>\n",
       "      <td>0.629310</td>\n",
       "      <td>0.673197</td>\n",
       "    </tr>\n",
       "    <tr>\n",
       "      <th>3</th>\n",
       "      <td>0.652038</td>\n",
       "      <td>0.684169</td>\n",
       "      <td>0.639498</td>\n",
       "      <td>0.642633</td>\n",
       "      <td>0.674765</td>\n",
       "    </tr>\n",
       "    <tr>\n",
       "      <th>4</th>\n",
       "      <td>0.655686</td>\n",
       "      <td>0.672941</td>\n",
       "      <td>0.637647</td>\n",
       "      <td>0.648627</td>\n",
       "      <td>0.674510</td>\n",
       "    </tr>\n",
       "    <tr>\n",
       "      <th>5</th>\n",
       "      <td>0.645490</td>\n",
       "      <td>0.672941</td>\n",
       "      <td>0.627451</td>\n",
       "      <td>0.654902</td>\n",
       "      <td>0.648627</td>\n",
       "    </tr>\n",
       "    <tr>\n",
       "      <th>6</th>\n",
       "      <td>0.664314</td>\n",
       "      <td>0.680000</td>\n",
       "      <td>0.657255</td>\n",
       "      <td>0.640784</td>\n",
       "      <td>0.665098</td>\n",
       "    </tr>\n",
       "    <tr>\n",
       "      <th>7</th>\n",
       "      <td>0.642353</td>\n",
       "      <td>0.687843</td>\n",
       "      <td>0.638431</td>\n",
       "      <td>0.628235</td>\n",
       "      <td>0.677647</td>\n",
       "    </tr>\n",
       "    <tr>\n",
       "      <th>8</th>\n",
       "      <td>0.656471</td>\n",
       "      <td>0.687059</td>\n",
       "      <td>0.626667</td>\n",
       "      <td>0.646275</td>\n",
       "      <td>0.664314</td>\n",
       "    </tr>\n",
       "    <tr>\n",
       "      <th>9</th>\n",
       "      <td>0.653333</td>\n",
       "      <td>0.687843</td>\n",
       "      <td>0.643137</td>\n",
       "      <td>0.652549</td>\n",
       "      <td>0.657255</td>\n",
       "    </tr>\n",
       "  </tbody>\n",
       "</table>\n",
       "</div>"
      ],
      "text/plain": [
       "   additive_chi2      chi2    linear       rbf  laplacian\n",
       "0       0.656740  0.670063  0.637147  0.643417   0.644984\n",
       "1       0.647335  0.673197  0.642633  0.623824   0.646552\n",
       "2       0.659091  0.661442  0.642633  0.629310   0.673197\n",
       "3       0.652038  0.684169  0.639498  0.642633   0.674765\n",
       "4       0.655686  0.672941  0.637647  0.648627   0.674510\n",
       "5       0.645490  0.672941  0.627451  0.654902   0.648627\n",
       "6       0.664314  0.680000  0.657255  0.640784   0.665098\n",
       "7       0.642353  0.687843  0.638431  0.628235   0.677647\n",
       "8       0.656471  0.687059  0.626667  0.646275   0.664314\n",
       "9       0.653333  0.687843  0.643137  0.652549   0.657255"
      ]
     },
     "execution_count": 9,
     "metadata": {},
     "output_type": "execute_result"
    }
   ],
   "source": [
    "#np.set_printoptions(precision=2)\n",
    "sgd = SGDClassifier(loss='log',\n",
    "                    penalty='l1',\n",
    "                    #early_stopping=True,\n",
    "                    #class_weight='balanced',\n",
    "                    n_jobs=-1, warm_start=False)\n",
    "kernels_to_try = ('additive_chi2', 'chi2', 'linear', 'rbf', 'laplacian')\n",
    "scoring = 'recall_weighted'\n",
    "folds=10\n",
    "df = {}\n",
    "for kernel in kernels_to_try:\n",
    "    scores = train(sgd,\n",
    "                   x, y,\n",
    "                   folds=folds,\n",
    "                   kernel=kernel,\n",
    "                   scoring=scoring)\n",
    "    df[kernel] = scores\n",
    "    print(kernel, ' done...')\n",
    "f_result = f_oneway(*df.values())\n",
    "df = pd.DataFrame(df)\n",
    "df"
   ]
  },
  {
   "cell_type": "code",
   "execution_count": 10,
   "metadata": {},
   "outputs": [
    {
     "data": {
      "text/plain": [
       "additive_chi2    0.653285\n",
       "chi2             0.677750\n",
       "linear           0.639250\n",
       "rbf              0.641056\n",
       "laplacian        0.662695\n",
       "dtype: float64"
      ]
     },
     "execution_count": 10,
     "metadata": {},
     "output_type": "execute_result"
    }
   ],
   "source": [
    "df.mean()"
   ]
  },
  {
   "cell_type": "code",
   "execution_count": 11,
   "metadata": {},
   "outputs": [
    {
     "data": {
      "text/plain": [
       "F_onewayResult(statistic=27.107181167842075, pvalue=1.746987420585839e-11)"
      ]
     },
     "execution_count": 11,
     "metadata": {},
     "output_type": "execute_result"
    }
   ],
   "source": [
    "f_result"
   ]
  },
  {
   "cell_type": "code",
   "execution_count": 12,
   "metadata": {},
   "outputs": [
    {
     "data": {
      "image/png": "[encoded data removed]",
      "text/plain": [
       "<Figure size 432x288 with 1 Axes>"
      ]
     },
     "metadata": {
      "needs_background": "light"
     },
     "output_type": "display_data"
    }
   ],
   "source": [
    "ax = df.plot(use_index=True, xticks=range(folds))\n",
    "ax.hlines(df.mean(),\n",
    "          xmin=0, xmax=folds-1,\n",
    "          linestyles='dashed', alpha=0.8, colors=['C'+str(i) for i in range(5)])\n",
    "ax.legend(loc='center left', bbox_to_anchor=(1, 0.5));\n",
    "plt.xlabel('Split');\n",
    "plt.ylabel('Weighted Recall');"
   ]
  },
  {
   "cell_type": "markdown",
   "metadata": {},
   "source": [
    "$\\chi^2$ does best on average across several runs, so we will use it as our real kernel."
   ]
  },
  {
   "cell_type": "code",
   "execution_count": 27,
   "metadata": {},
   "outputs": [],
   "source": [
    "param_grid = {'kernel__n_components': np.linspace(100, 600, num=10, dtype=int),\n",
    "              'kernel__gamma': np.logspace(-3, 3, num=10),\n",
    "              'clf__loss': ('hinge', 'log'),\n",
    "              'clf__penalty': ('l2', 'l1'),\n",
    "              #'learning_rate': ('optimal', 'invscaling', 'adaptive'),\n",
    "              #'power_t': np.logspace(-3, -1, num=10),\n",
    "              'clf__class_weight': ('balanced', None)\n",
    "             }\n",
    "\n",
    "pipeline_steps = [('kernel', Nystroem(kernel='chi2')), ('clf', SGDClassifier(average=True))]"
   ]
  },
  {
   "cell_type": "code",
   "execution_count": 28,
   "metadata": {},
   "outputs": [
    {
     "name": "stdout",
     "output_type": "stream",
     "text": [
      "Fitting 5 folds for each of 10 candidates, totalling 50 fits\n"
     ]
    },
    {
     "name": "stderr",
     "output_type": "stream",
     "text": [
      "[Parallel(n_jobs=-1)]: Using backend LokyBackend with 8 concurrent workers.\n",
      "[Parallel(n_jobs=-1)]: Done  16 tasks      | elapsed:    8.1s\n",
      "[Parallel(n_jobs=-1)]: Done  50 out of  50 | elapsed:   20.3s finished\n"
     ]
    },
    {
     "data": {
      "text/plain": [
       "RandomizedSearchCV(cv=5,\n",
       "                   estimator=Pipeline(steps=[('kernel',\n",
       "                                              Nystroem(kernel='chi2')),\n",
       "                                             ('clf',\n",
       "                                              SGDClassifier(average=True))]),\n",
       "                   n_jobs=-1,\n",
       "                   param_distributions={'clf__class_weight': ('balanced', None),\n",
       "                                        'clf__loss': ('hinge', 'log'),\n",
       "                                        'clf__penalty': ('l2', 'l1'),\n",
       "                                        'kernel__gamma': array([1.00000000e-03, 2.06913808e-03, 4.28133240e-03, 8.85866790e-03,\n",
       "       1.83298071e-02, 3.79269019e-02, 7.84759970e-02, 1.62377674e-01,\n",
       "       3.35981829e-01, 6.95192796e-01, 1.43844989e+00, 2.97635144e+00,\n",
       "       6.15848211e+00, 1.27427499e+01, 2.63665090e+01, 5.45559478e+01,\n",
       "       1.12883789e+02, 2.33572147e+02, 4.83293024e+02, 1.00000000e+03]),\n",
       "                                        'kernel__n_components': array([100, 155, 211, 266, 322, 377, 433, 488, 544, 600])},\n",
       "                   scoring='recall_weighted', verbose=3)"
      ]
     },
     "execution_count": 28,
     "metadata": {},
     "output_type": "execute_result"
    }
   ],
   "source": [
    "#fm = Nystroem(kernel='chi2', n_components=300).fit_transform(x, y)\n",
    "\n",
    "pl = Pipeline(pipeline_steps)\n",
    "\n",
    "grid = RandomizedSearchCV(estimator=pl,\n",
    "                          cv=5, scoring='recall_weighted',\n",
    "                          param_distributions=param_grid,\n",
    "                          verbose=3, n_jobs=-1)\n",
    "\n",
    "grid.fit(x,y)"
   ]
  },
  {
   "cell_type": "code",
   "execution_count": 29,
   "metadata": {},
   "outputs": [
    {
     "data": {
      "text/html": [
       "<div>\n",
       "<style scoped>\n",
       "    .dataframe tbody tr th:only-of-type {\n",
       "        vertical-align: middle;\n",
       "    }\n",
       "\n",
       "    .dataframe tbody tr th {\n",
       "        vertical-align: top;\n",
       "    }\n",
       "\n",
       "    .dataframe thead th {\n",
       "        text-align: right;\n",
       "    }\n",
       "</style>\n",
       "<table border=\"1\" class=\"dataframe\">\n",
       "  <thead>\n",
       "    <tr style=\"text-align: right;\">\n",
       "      <th></th>\n",
       "      <th>mean_fit_time</th>\n",
       "      <th>std_fit_time</th>\n",
       "      <th>mean_score_time</th>\n",
       "      <th>std_score_time</th>\n",
       "      <th>param_kernel__n_components</th>\n",
       "      <th>param_kernel__gamma</th>\n",
       "      <th>param_clf__penalty</th>\n",
       "      <th>param_clf__loss</th>\n",
       "      <th>param_clf__class_weight</th>\n",
       "      <th>params</th>\n",
       "      <th>split0_test_score</th>\n",
       "      <th>split1_test_score</th>\n",
       "      <th>split2_test_score</th>\n",
       "      <th>split3_test_score</th>\n",
       "      <th>split4_test_score</th>\n",
       "      <th>mean_test_score</th>\n",
       "      <th>std_test_score</th>\n",
       "      <th>rank_test_score</th>\n",
       "    </tr>\n",
       "  </thead>\n",
       "  <tbody>\n",
       "    <tr>\n",
       "      <th>8</th>\n",
       "      <td>3.537802</td>\n",
       "      <td>0.215032</td>\n",
       "      <td>0.102801</td>\n",
       "      <td>0.012512</td>\n",
       "      <td>544</td>\n",
       "      <td>6.15848</td>\n",
       "      <td>l2</td>\n",
       "      <td>log</td>\n",
       "      <td>balanced</td>\n",
       "      <td>{'kernel__n_components': 544, 'kernel__gamma':...</td>\n",
       "      <td>0.716190</td>\n",
       "      <td>0.649941</td>\n",
       "      <td>0.604861</td>\n",
       "      <td>0.609565</td>\n",
       "      <td>0.567059</td>\n",
       "      <td>0.629523</td>\n",
       "      <td>0.050668</td>\n",
       "      <td>1</td>\n",
       "    </tr>\n",
       "    <tr>\n",
       "      <th>0</th>\n",
       "      <td>3.640401</td>\n",
       "      <td>0.121854</td>\n",
       "      <td>0.120398</td>\n",
       "      <td>0.007501</td>\n",
       "      <td>544</td>\n",
       "      <td>0.162378</td>\n",
       "      <td>l2</td>\n",
       "      <td>log</td>\n",
       "      <td>balanced</td>\n",
       "      <td>{'kernel__n_components': 544, 'kernel__gamma':...</td>\n",
       "      <td>0.673461</td>\n",
       "      <td>0.591925</td>\n",
       "      <td>0.561740</td>\n",
       "      <td>0.592317</td>\n",
       "      <td>0.555686</td>\n",
       "      <td>0.595026</td>\n",
       "      <td>0.042011</td>\n",
       "      <td>2</td>\n",
       "    </tr>\n",
       "    <tr>\n",
       "      <th>9</th>\n",
       "      <td>1.288800</td>\n",
       "      <td>0.087579</td>\n",
       "      <td>0.016603</td>\n",
       "      <td>0.003661</td>\n",
       "      <td>100</td>\n",
       "      <td>0.0379269</td>\n",
       "      <td>l2</td>\n",
       "      <td>hinge</td>\n",
       "      <td>balanced</td>\n",
       "      <td>{'kernel__n_components': 100, 'kernel__gamma':...</td>\n",
       "      <td>0.673461</td>\n",
       "      <td>0.582517</td>\n",
       "      <td>0.558604</td>\n",
       "      <td>0.591533</td>\n",
       "      <td>0.547059</td>\n",
       "      <td>0.590635</td>\n",
       "      <td>0.044389</td>\n",
       "      <td>3</td>\n",
       "    </tr>\n",
       "    <tr>\n",
       "      <th>4</th>\n",
       "      <td>1.285344</td>\n",
       "      <td>0.125196</td>\n",
       "      <td>0.018602</td>\n",
       "      <td>0.001496</td>\n",
       "      <td>100</td>\n",
       "      <td>233.572</td>\n",
       "      <td>l1</td>\n",
       "      <td>log</td>\n",
       "      <td>None</td>\n",
       "      <td>{'kernel__n_components': 100, 'kernel__gamma':...</td>\n",
       "      <td>0.536260</td>\n",
       "      <td>0.566445</td>\n",
       "      <td>0.512740</td>\n",
       "      <td>0.523324</td>\n",
       "      <td>0.540000</td>\n",
       "      <td>0.535754</td>\n",
       "      <td>0.018135</td>\n",
       "      <td>4</td>\n",
       "    </tr>\n",
       "    <tr>\n",
       "      <th>7</th>\n",
       "      <td>1.897800</td>\n",
       "      <td>0.140564</td>\n",
       "      <td>0.016800</td>\n",
       "      <td>0.001165</td>\n",
       "      <td>100</td>\n",
       "      <td>0.00206914</td>\n",
       "      <td>l1</td>\n",
       "      <td>log</td>\n",
       "      <td>balanced</td>\n",
       "      <td>{'kernel__n_components': 100, 'kernel__gamma':...</td>\n",
       "      <td>0.440220</td>\n",
       "      <td>0.439044</td>\n",
       "      <td>0.444532</td>\n",
       "      <td>0.454724</td>\n",
       "      <td>0.542353</td>\n",
       "      <td>0.464174</td>\n",
       "      <td>0.039478</td>\n",
       "      <td>5</td>\n",
       "    </tr>\n",
       "    <tr>\n",
       "      <th>1</th>\n",
       "      <td>3.197992</td>\n",
       "      <td>0.279645</td>\n",
       "      <td>0.079200</td>\n",
       "      <td>0.006112</td>\n",
       "      <td>155</td>\n",
       "      <td>1000</td>\n",
       "      <td>l1</td>\n",
       "      <td>log</td>\n",
       "      <td>balanced</td>\n",
       "      <td>{'kernel__n_components': 155, 'kernel__gamma':...</td>\n",
       "      <td>0.426891</td>\n",
       "      <td>0.415131</td>\n",
       "      <td>0.402979</td>\n",
       "      <td>0.402587</td>\n",
       "      <td>0.420392</td>\n",
       "      <td>0.413596</td>\n",
       "      <td>0.009584</td>\n",
       "      <td>6</td>\n",
       "    </tr>\n",
       "    <tr>\n",
       "      <th>6</th>\n",
       "      <td>4.563199</td>\n",
       "      <td>0.330279</td>\n",
       "      <td>0.075202</td>\n",
       "      <td>0.005492</td>\n",
       "      <td>377</td>\n",
       "      <td>0.00885867</td>\n",
       "      <td>l1</td>\n",
       "      <td>log</td>\n",
       "      <td>balanced</td>\n",
       "      <td>{'kernel__n_components': 377, 'kernel__gamma':...</td>\n",
       "      <td>0.633085</td>\n",
       "      <td>0.329675</td>\n",
       "      <td>0.441788</td>\n",
       "      <td>0.467268</td>\n",
       "      <td>0.134510</td>\n",
       "      <td>0.401265</td>\n",
       "      <td>0.164938</td>\n",
       "      <td>7</td>\n",
       "    </tr>\n",
       "    <tr>\n",
       "      <th>3</th>\n",
       "      <td>2.390457</td>\n",
       "      <td>0.078001</td>\n",
       "      <td>0.026400</td>\n",
       "      <td>0.001854</td>\n",
       "      <td>155</td>\n",
       "      <td>0.00206914</td>\n",
       "      <td>l1</td>\n",
       "      <td>log</td>\n",
       "      <td>balanced</td>\n",
       "      <td>{'kernel__n_components': 155, 'kernel__gamma':...</td>\n",
       "      <td>0.273618</td>\n",
       "      <td>0.437083</td>\n",
       "      <td>0.378283</td>\n",
       "      <td>0.467268</td>\n",
       "      <td>0.149412</td>\n",
       "      <td>0.341133</td>\n",
       "      <td>0.116458</td>\n",
       "      <td>8</td>\n",
       "    </tr>\n",
       "    <tr>\n",
       "      <th>5</th>\n",
       "      <td>5.563397</td>\n",
       "      <td>0.358000</td>\n",
       "      <td>0.134200</td>\n",
       "      <td>0.005193</td>\n",
       "      <td>600</td>\n",
       "      <td>0.162378</td>\n",
       "      <td>l1</td>\n",
       "      <td>log</td>\n",
       "      <td>None</td>\n",
       "      <td>{'kernel__n_components': 600, 'kernel__gamma':...</td>\n",
       "      <td>0.259506</td>\n",
       "      <td>0.150529</td>\n",
       "      <td>0.139553</td>\n",
       "      <td>0.208154</td>\n",
       "      <td>0.124314</td>\n",
       "      <td>0.176411</td>\n",
       "      <td>0.050309</td>\n",
       "      <td>9</td>\n",
       "    </tr>\n",
       "    <tr>\n",
       "      <th>2</th>\n",
       "      <td>3.899910</td>\n",
       "      <td>0.270453</td>\n",
       "      <td>0.057000</td>\n",
       "      <td>0.001096</td>\n",
       "      <td>322</td>\n",
       "      <td>0.001</td>\n",
       "      <td>l1</td>\n",
       "      <td>hinge</td>\n",
       "      <td>None</td>\n",
       "      <td>{'kernel__n_components': 322, 'kernel__gamma':...</td>\n",
       "      <td>0.138769</td>\n",
       "      <td>0.125049</td>\n",
       "      <td>0.125049</td>\n",
       "      <td>0.125049</td>\n",
       "      <td>0.125098</td>\n",
       "      <td>0.127803</td>\n",
       "      <td>0.005483</td>\n",
       "      <td>10</td>\n",
       "    </tr>\n",
       "  </tbody>\n",
       "</table>\n",
       "</div>"
      ],
      "text/plain": [
       "   mean_fit_time  std_fit_time  mean_score_time  std_score_time  \\\n",
       "8       3.537802      0.215032         0.102801        0.012512   \n",
       "0       3.640401      0.121854         0.120398        0.007501   \n",
       "9       1.288800      0.087579         0.016603        0.003661   \n",
       "4       1.285344      0.125196         0.018602        0.001496   \n",
       "7       1.897800      0.140564         0.016800        0.001165   \n",
       "1       3.197992      0.279645         0.079200        0.006112   \n",
       "6       4.563199      0.330279         0.075202        0.005492   \n",
       "3       2.390457      0.078001         0.026400        0.001854   \n",
       "5       5.563397      0.358000         0.134200        0.005193   \n",
       "2       3.899910      0.270453         0.057000        0.001096   \n",
       "\n",
       "  param_kernel__n_components param_kernel__gamma param_clf__penalty  \\\n",
       "8                        544             6.15848                 l2   \n",
       "0                        544            0.162378                 l2   \n",
       "9                        100           0.0379269                 l2   \n",
       "4                        100             233.572                 l1   \n",
       "7                        100          0.00206914                 l1   \n",
       "1                        155                1000                 l1   \n",
       "6                        377          0.00885867                 l1   \n",
       "3                        155          0.00206914                 l1   \n",
       "5                        600            0.162378                 l1   \n",
       "2                        322               0.001                 l1   \n",
       "\n",
       "  param_clf__loss param_clf__class_weight  \\\n",
       "8             log                balanced   \n",
       "0             log                balanced   \n",
       "9           hinge                balanced   \n",
       "4             log                    None   \n",
       "7             log                balanced   \n",
       "1             log                balanced   \n",
       "6             log                balanced   \n",
       "3             log                balanced   \n",
       "5             log                    None   \n",
       "2           hinge                    None   \n",
       "\n",
       "                                              params  split0_test_score  \\\n",
       "8  {'kernel__n_components': 544, 'kernel__gamma':...           0.716190   \n",
       "0  {'kernel__n_components': 544, 'kernel__gamma':...           0.673461   \n",
       "9  {'kernel__n_components': 100, 'kernel__gamma':...           0.673461   \n",
       "4  {'kernel__n_components': 100, 'kernel__gamma':...           0.536260   \n",
       "7  {'kernel__n_components': 100, 'kernel__gamma':...           0.440220   \n",
       "1  {'kernel__n_components': 155, 'kernel__gamma':...           0.426891   \n",
       "6  {'kernel__n_components': 377, 'kernel__gamma':...           0.633085   \n",
       "3  {'kernel__n_components': 155, 'kernel__gamma':...           0.273618   \n",
       "5  {'kernel__n_components': 600, 'kernel__gamma':...           0.259506   \n",
       "2  {'kernel__n_components': 322, 'kernel__gamma':...           0.138769   \n",
       "\n",
       "   split1_test_score  split2_test_score  split3_test_score  split4_test_score  \\\n",
       "8           0.649941           0.604861           0.609565           0.567059   \n",
       "0           0.591925           0.561740           0.592317           0.555686   \n",
       "9           0.582517           0.558604           0.591533           0.547059   \n",
       "4           0.566445           0.512740           0.523324           0.540000   \n",
       "7           0.439044           0.444532           0.454724           0.542353   \n",
       "1           0.415131           0.402979           0.402587           0.420392   \n",
       "6           0.329675           0.441788           0.467268           0.134510   \n",
       "3           0.437083           0.378283           0.467268           0.149412   \n",
       "5           0.150529           0.139553           0.208154           0.124314   \n",
       "2           0.125049           0.125049           0.125049           0.125098   \n",
       "\n",
       "   mean_test_score  std_test_score  rank_test_score  \n",
       "8         0.629523        0.050668                1  \n",
       "0         0.595026        0.042011                2  \n",
       "9         0.590635        0.044389                3  \n",
       "4         0.535754        0.018135                4  \n",
       "7         0.464174        0.039478                5  \n",
       "1         0.413596        0.009584                6  \n",
       "6         0.401265        0.164938                7  \n",
       "3         0.341133        0.116458                8  \n",
       "5         0.176411        0.050309                9  \n",
       "2         0.127803        0.005483               10  "
      ]
     },
     "execution_count": 29,
     "metadata": {},
     "output_type": "execute_result"
    }
   ],
   "source": [
    "grid_df = pd.DataFrame(grid.cv_results_).sort_values('rank_test_score')\n",
    "grid_df"
   ]
  },
  {
   "cell_type": "raw",
   "metadata": {},
   "source": [
    "sgd.fit(chi2_approx, y)"
   ]
  },
  {
   "cell_type": "raw",
   "metadata": {},
   "source": [
    "y_pred, y_proba = sgd.predict(x_test), sgd.predict_proba(x_test)"
   ]
  },
  {
   "cell_type": "raw",
   "metadata": {},
   "source": [
    "cm2 = pd.DataFrame(confusion_matrix(y_test, y_pred), columns=['real', 'fake', 'opinion', 'polarized', 'satire', 'promotional', 'correction'], index=['real', 'fake', 'opinion', 'polarized', 'satire', 'promotional', 'correction'])\n",
    "recall_score(y_test, y_pred, average='weighted')"
   ]
  }
 ],
 "metadata": {
  "kernelspec": {
   "display_name": "Python 3",
   "language": "python",
   "name": "python3"
  },
  "language_info": {
   "codemirror_mode": {
    "name": "ipython",
    "version": 3
   },
   "file_extension": ".py",
   "mimetype": "text/x-python",
   "name": "python",
   "nbconvert_exporter": "python",
   "pygments_lexer": "ipython3",
   "version": "3.7.6"
  }
 },
 "nbformat": 4,
 "nbformat_minor": 4
}
